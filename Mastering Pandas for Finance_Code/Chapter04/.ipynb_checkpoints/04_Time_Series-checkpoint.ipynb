{
 "cells": [
  {
   "cell_type": "code",
   "execution_count": 3,
   "metadata": {},
   "outputs": [],
   "source": [
    "import numpy as np\n",
    "import pandas as pd\n",
    "\n",
    "pd.set_option('display.notebook_repr_html', False)\n",
    "pd.set_option('display.max_columns', 10)\n",
    "pd.set_option('display.max_rows', 7)\n",
    "pd.set_option('precision', 7)\n",
    "\n",
    "# useful for date/time manipulations\n",
    "import datetime\n",
    "from datetime import datetime\n",
    "\n",
    "# And some items for matplotlib\n",
    "import matplotlib.pyplot as plt\n",
    "%matplotlib inline \n",
    "#pd.options.display.mpl_style = 'default'"
   ]
  },
  {
   "cell_type": "markdown",
   "metadata": {},
   "source": [
    "# Time-series data and the DatetimeIndex"
   ]
  },
  {
   "cell_type": "code",
   "execution_count": 4,
   "metadata": {},
   "outputs": [
    {
     "data": {
      "text/plain": [
       "DatetimeIndex(['2014-08-01', '2014-08-02'], dtype='datetime64[ns]', freq=None)"
      ]
     },
     "execution_count": 4,
     "metadata": {},
     "output_type": "execute_result"
    }
   ],
   "source": [
    "# create a a DatetimeIndex from an array of datetime's\n",
    "dates = [datetime(2014, 8, 1), datetime(2014, 8, 2)]\n",
    "dti = pd.DatetimeIndex(dates)\n",
    "dti"
   ]
  },
  {
   "cell_type": "code",
   "execution_count": 5,
   "metadata": {},
   "outputs": [
    {
     "data": {
      "text/plain": [
       "pandas.core.indexes.datetimes.DatetimeIndex"
      ]
     },
     "execution_count": 5,
     "metadata": {},
     "output_type": "execute_result"
    }
   ],
   "source": [
    "# a Series given a datetime list will automatically create\n",
    "# a DatetimeIndex as its index\n",
    "np.random.seed(123456)\n",
    "ts = pd.Series(np.random.randn(2), dates)\n",
    "type(ts.index)"
   ]
  },
  {
   "cell_type": "code",
   "execution_count": 8,
   "metadata": {},
   "outputs": [
    {
     "data": {
      "text/plain": [
       "2014-08-01    0.4691123\n",
       "2014-08-02   -0.2828633\n",
       "dtype: float64"
      ]
     },
     "execution_count": 8,
     "metadata": {},
     "output_type": "execute_result"
    }
   ],
   "source": [
    "ts"
   ]
  },
  {
   "cell_type": "code",
   "execution_count": 6,
   "metadata": {},
   "outputs": [
    {
     "data": {
      "text/plain": [
       "-0.2828633443286633"
      ]
     },
     "execution_count": 6,
     "metadata": {},
     "output_type": "execute_result"
    }
   ],
   "source": [
    "# retrieve a value using a datetime object\n",
    "ts[datetime(2014, 8, 2)]"
   ]
  },
  {
   "cell_type": "code",
   "execution_count": 7,
   "metadata": {},
   "outputs": [
    {
     "data": {
      "text/plain": [
       "-0.2828633443286633"
      ]
     },
     "execution_count": 7,
     "metadata": {},
     "output_type": "execute_result"
    }
   ],
   "source": [
    "# this can also be performed with a string\n",
    "ts['2014-8-2']"
   ]
  },
  {
   "cell_type": "code",
   "execution_count": 9,
   "metadata": {},
   "outputs": [
    {
     "data": {
      "text/plain": [
       "2014-08-01    0.4691123\n",
       "2014-08-02   -0.2828633\n",
       "dtype: float64"
      ]
     },
     "execution_count": 9,
     "metadata": {},
     "output_type": "execute_result"
    }
   ],
   "source": [
    "# create a Series with a DatetimeIndex using strings as dates\n",
    "np.random.seed(123456)\n",
    "dates = ['2014-08-01', '2014-08-02']\n",
    "ts = pd.Series(np.random.randn(2), dates)\n",
    "ts"
   ]
  },
  {
   "cell_type": "code",
   "execution_count": 35,
   "metadata": {},
   "outputs": [
    {
     "data": {
      "text/plain": [
       "Timestamp('2014-08-02 00:00:00')"
      ]
     },
     "execution_count": 35,
     "metadata": {},
     "output_type": "execute_result"
    }
   ],
   "source": [
    "pd.to_datetime('2014-08-02')"
   ]
  },
  {
   "cell_type": "code",
   "execution_count": 36,
   "metadata": {},
   "outputs": [
    {
     "data": {
      "text/plain": [
       "DatetimeIndex(['2014-08-02', '2014-08-03'], dtype='datetime64[ns]', freq=None)"
      ]
     },
     "execution_count": 36,
     "metadata": {},
     "output_type": "execute_result"
    }
   ],
   "source": [
    "pd.to_datetime(['2014-08-02', '2014-08-03'])\n",
    "# renc: "
   ]
  },
  {
   "cell_type": "code",
   "execution_count": 10,
   "metadata": {},
   "outputs": [
    {
     "data": {
      "text/plain": [
       "DatetimeIndex(['2014-08-01', '2014-08-02', '2014-08-03', 'NaT'], dtype='datetime64[ns]', freq=None)"
      ]
     },
     "execution_count": 10,
     "metadata": {},
     "output_type": "execute_result"
    }
   ],
   "source": [
    "# convert a list of items to a DatetimeIndex\n",
    "dti = pd.to_datetime(['Aug 1, 2014', '2014-08-02', \n",
    "                      '2014.8.3', None])\n",
    "dti"
   ]
  },
  {
   "cell_type": "code",
   "execution_count": 14,
   "metadata": {},
   "outputs": [
    {
     "ename": "ValueError",
     "evalue": "('Unknown string format:', 'foo')",
     "output_type": "error",
     "traceback": [
      "\u001b[1;31m---------------------------------------------------------------------------\u001b[0m",
      "\u001b[1;31mTypeError\u001b[0m                                 Traceback (most recent call last)",
      "\u001b[1;32md:\\Users\\renc\\Anaconda3\\envs\\py36q\\lib\\site-packages\\pandas\\core\\tools\\datetimes.py\u001b[0m in \u001b[0;36m_convert_listlike\u001b[1;34m(arg, box, format, name, tz)\u001b[0m\n\u001b[0;32m    376\u001b[0m             \u001b[1;32mtry\u001b[0m\u001b[1;33m:\u001b[0m\u001b[1;33m\u001b[0m\u001b[0m\n\u001b[1;32m--> 377\u001b[1;33m                 \u001b[0mvalues\u001b[0m\u001b[1;33m,\u001b[0m \u001b[0mtz\u001b[0m \u001b[1;33m=\u001b[0m \u001b[0mconversion\u001b[0m\u001b[1;33m.\u001b[0m\u001b[0mdatetime_to_datetime64\u001b[0m\u001b[1;33m(\u001b[0m\u001b[0marg\u001b[0m\u001b[1;33m)\u001b[0m\u001b[1;33m\u001b[0m\u001b[0m\n\u001b[0m\u001b[0;32m    378\u001b[0m                 \u001b[1;32mreturn\u001b[0m \u001b[0mDatetimeIndex\u001b[0m\u001b[1;33m.\u001b[0m\u001b[0m_simple_new\u001b[0m\u001b[1;33m(\u001b[0m\u001b[0mvalues\u001b[0m\u001b[1;33m,\u001b[0m \u001b[0mname\u001b[0m\u001b[1;33m=\u001b[0m\u001b[0mname\u001b[0m\u001b[1;33m,\u001b[0m \u001b[0mtz\u001b[0m\u001b[1;33m=\u001b[0m\u001b[0mtz\u001b[0m\u001b[1;33m)\u001b[0m\u001b[1;33m\u001b[0m\u001b[0m\n",
      "\u001b[1;32mpandas\\_libs\\tslibs\\conversion.pyx\u001b[0m in \u001b[0;36mpandas._libs.tslibs.conversion.datetime_to_datetime64\u001b[1;34m()\u001b[0m\n",
      "\u001b[1;31mTypeError\u001b[0m: Unrecognized value type: <class 'str'>",
      "\nDuring handling of the above exception, another exception occurred:\n",
      "\u001b[1;31mValueError\u001b[0m                                Traceback (most recent call last)",
      "\u001b[1;32m<ipython-input-14-9396334569e6>\u001b[0m in \u001b[0;36m<module>\u001b[1;34m()\u001b[0m\n\u001b[0;32m      2\u001b[0m \u001b[1;31m# to a date/time will result in the return value being a\u001b[0m\u001b[1;33m\u001b[0m\u001b[1;33m\u001b[0m\u001b[0m\n\u001b[0;32m      3\u001b[0m \u001b[1;31m# NumPy array instead of a DatetimeIndex\u001b[0m\u001b[1;33m\u001b[0m\u001b[1;33m\u001b[0m\u001b[0m\n\u001b[1;32m----> 4\u001b[1;33m \u001b[0mdti2\u001b[0m \u001b[1;33m=\u001b[0m \u001b[0mpd\u001b[0m\u001b[1;33m.\u001b[0m\u001b[0mto_datetime\u001b[0m\u001b[1;33m(\u001b[0m\u001b[1;33m[\u001b[0m\u001b[1;34m'Aug 1, 2014'\u001b[0m\u001b[1;33m,\u001b[0m \u001b[1;34m'foo'\u001b[0m\u001b[1;33m]\u001b[0m\u001b[1;33m)\u001b[0m\u001b[1;33m\u001b[0m\u001b[0m\n\u001b[0m\u001b[0;32m      5\u001b[0m \u001b[0mtype\u001b[0m\u001b[1;33m(\u001b[0m\u001b[0mdti2\u001b[0m\u001b[1;33m)\u001b[0m\u001b[1;33m\u001b[0m\u001b[0m\n\u001b[0;32m      6\u001b[0m \u001b[1;33m\u001b[0m\u001b[0m\n",
      "\u001b[1;32md:\\Users\\renc\\Anaconda3\\envs\\py36q\\lib\\site-packages\\pandas\\core\\tools\\datetimes.py\u001b[0m in \u001b[0;36mto_datetime\u001b[1;34m(arg, errors, dayfirst, yearfirst, utc, box, format, exact, unit, infer_datetime_format, origin, cache)\u001b[0m\n\u001b[0;32m    465\u001b[0m             \u001b[0mresult\u001b[0m \u001b[1;33m=\u001b[0m \u001b[0m_convert_and_box_cache\u001b[0m\u001b[1;33m(\u001b[0m\u001b[0marg\u001b[0m\u001b[1;33m,\u001b[0m \u001b[0mcache_array\u001b[0m\u001b[1;33m,\u001b[0m \u001b[0mbox\u001b[0m\u001b[1;33m,\u001b[0m \u001b[0merrors\u001b[0m\u001b[1;33m)\u001b[0m\u001b[1;33m\u001b[0m\u001b[0m\n\u001b[0;32m    466\u001b[0m         \u001b[1;32melse\u001b[0m\u001b[1;33m:\u001b[0m\u001b[1;33m\u001b[0m\u001b[0m\n\u001b[1;32m--> 467\u001b[1;33m             \u001b[0mresult\u001b[0m \u001b[1;33m=\u001b[0m \u001b[0m_convert_listlike\u001b[0m\u001b[1;33m(\u001b[0m\u001b[0marg\u001b[0m\u001b[1;33m,\u001b[0m \u001b[0mbox\u001b[0m\u001b[1;33m,\u001b[0m \u001b[0mformat\u001b[0m\u001b[1;33m)\u001b[0m\u001b[1;33m\u001b[0m\u001b[0m\n\u001b[0m\u001b[0;32m    468\u001b[0m     \u001b[1;32melse\u001b[0m\u001b[1;33m:\u001b[0m\u001b[1;33m\u001b[0m\u001b[0m\n\u001b[0;32m    469\u001b[0m         \u001b[0mresult\u001b[0m \u001b[1;33m=\u001b[0m \u001b[0m_convert_listlike\u001b[0m\u001b[1;33m(\u001b[0m\u001b[0mnp\u001b[0m\u001b[1;33m.\u001b[0m\u001b[0marray\u001b[0m\u001b[1;33m(\u001b[0m\u001b[1;33m[\u001b[0m\u001b[0marg\u001b[0m\u001b[1;33m]\u001b[0m\u001b[1;33m)\u001b[0m\u001b[1;33m,\u001b[0m \u001b[0mbox\u001b[0m\u001b[1;33m,\u001b[0m \u001b[0mformat\u001b[0m\u001b[1;33m)\u001b[0m\u001b[1;33m[\u001b[0m\u001b[1;36m0\u001b[0m\u001b[1;33m]\u001b[0m\u001b[1;33m\u001b[0m\u001b[0m\n",
      "\u001b[1;32md:\\Users\\renc\\Anaconda3\\envs\\py36q\\lib\\site-packages\\pandas\\core\\tools\\datetimes.py\u001b[0m in \u001b[0;36m_convert_listlike\u001b[1;34m(arg, box, format, name, tz)\u001b[0m\n\u001b[0;32m    378\u001b[0m                 \u001b[1;32mreturn\u001b[0m \u001b[0mDatetimeIndex\u001b[0m\u001b[1;33m.\u001b[0m\u001b[0m_simple_new\u001b[0m\u001b[1;33m(\u001b[0m\u001b[0mvalues\u001b[0m\u001b[1;33m,\u001b[0m \u001b[0mname\u001b[0m\u001b[1;33m=\u001b[0m\u001b[0mname\u001b[0m\u001b[1;33m,\u001b[0m \u001b[0mtz\u001b[0m\u001b[1;33m=\u001b[0m\u001b[0mtz\u001b[0m\u001b[1;33m)\u001b[0m\u001b[1;33m\u001b[0m\u001b[0m\n\u001b[0;32m    379\u001b[0m             \u001b[1;32mexcept\u001b[0m \u001b[1;33m(\u001b[0m\u001b[0mValueError\u001b[0m\u001b[1;33m,\u001b[0m \u001b[0mTypeError\u001b[0m\u001b[1;33m)\u001b[0m\u001b[1;33m:\u001b[0m\u001b[1;33m\u001b[0m\u001b[0m\n\u001b[1;32m--> 380\u001b[1;33m                 \u001b[1;32mraise\u001b[0m \u001b[0me\u001b[0m\u001b[1;33m\u001b[0m\u001b[0m\n\u001b[0m\u001b[0;32m    381\u001b[0m \u001b[1;33m\u001b[0m\u001b[0m\n\u001b[0;32m    382\u001b[0m     \u001b[1;32mif\u001b[0m \u001b[0marg\u001b[0m \u001b[1;32mis\u001b[0m \u001b[1;32mNone\u001b[0m\u001b[1;33m:\u001b[0m\u001b[1;33m\u001b[0m\u001b[0m\n",
      "\u001b[1;32md:\\Users\\renc\\Anaconda3\\envs\\py36q\\lib\\site-packages\\pandas\\core\\tools\\datetimes.py\u001b[0m in \u001b[0;36m_convert_listlike\u001b[1;34m(arg, box, format, name, tz)\u001b[0m\n\u001b[0;32m    366\u001b[0m                     \u001b[0mdayfirst\u001b[0m\u001b[1;33m=\u001b[0m\u001b[0mdayfirst\u001b[0m\u001b[1;33m,\u001b[0m\u001b[1;33m\u001b[0m\u001b[0m\n\u001b[0;32m    367\u001b[0m                     \u001b[0myearfirst\u001b[0m\u001b[1;33m=\u001b[0m\u001b[0myearfirst\u001b[0m\u001b[1;33m,\u001b[0m\u001b[1;33m\u001b[0m\u001b[0m\n\u001b[1;32m--> 368\u001b[1;33m                     \u001b[0mrequire_iso8601\u001b[0m\u001b[1;33m=\u001b[0m\u001b[0mrequire_iso8601\u001b[0m\u001b[1;33m\u001b[0m\u001b[0m\n\u001b[0m\u001b[0;32m    369\u001b[0m                 )\n\u001b[0;32m    370\u001b[0m \u001b[1;33m\u001b[0m\u001b[0m\n",
      "\u001b[1;32mpandas\\_libs\\tslib.pyx\u001b[0m in \u001b[0;36mpandas._libs.tslib.array_to_datetime\u001b[1;34m()\u001b[0m\n",
      "\u001b[1;32mpandas\\_libs\\tslib.pyx\u001b[0m in \u001b[0;36mpandas._libs.tslib.array_to_datetime\u001b[1;34m()\u001b[0m\n",
      "\u001b[1;32mpandas\\_libs\\tslib.pyx\u001b[0m in \u001b[0;36mpandas._libs.tslib.array_to_datetime\u001b[1;34m()\u001b[0m\n",
      "\u001b[1;32mpandas\\_libs\\tslibs\\parsing.pyx\u001b[0m in \u001b[0;36mpandas._libs.tslibs.parsing.parse_datetime_string\u001b[1;34m()\u001b[0m\n",
      "\u001b[1;32md:\\Users\\renc\\Anaconda3\\envs\\py36q\\lib\\site-packages\\dateutil\\parser\\_parser.py\u001b[0m in \u001b[0;36mparse\u001b[1;34m(timestr, parserinfo, **kwargs)\u001b[0m\n\u001b[0;32m   1354\u001b[0m         \u001b[1;32mreturn\u001b[0m \u001b[0mparser\u001b[0m\u001b[1;33m(\u001b[0m\u001b[0mparserinfo\u001b[0m\u001b[1;33m)\u001b[0m\u001b[1;33m.\u001b[0m\u001b[0mparse\u001b[0m\u001b[1;33m(\u001b[0m\u001b[0mtimestr\u001b[0m\u001b[1;33m,\u001b[0m \u001b[1;33m**\u001b[0m\u001b[0mkwargs\u001b[0m\u001b[1;33m)\u001b[0m\u001b[1;33m\u001b[0m\u001b[0m\n\u001b[0;32m   1355\u001b[0m     \u001b[1;32melse\u001b[0m\u001b[1;33m:\u001b[0m\u001b[1;33m\u001b[0m\u001b[0m\n\u001b[1;32m-> 1356\u001b[1;33m         \u001b[1;32mreturn\u001b[0m \u001b[0mDEFAULTPARSER\u001b[0m\u001b[1;33m.\u001b[0m\u001b[0mparse\u001b[0m\u001b[1;33m(\u001b[0m\u001b[0mtimestr\u001b[0m\u001b[1;33m,\u001b[0m \u001b[1;33m**\u001b[0m\u001b[0mkwargs\u001b[0m\u001b[1;33m)\u001b[0m\u001b[1;33m\u001b[0m\u001b[0m\n\u001b[0m\u001b[0;32m   1357\u001b[0m \u001b[1;33m\u001b[0m\u001b[0m\n\u001b[0;32m   1358\u001b[0m \u001b[1;33m\u001b[0m\u001b[0m\n",
      "\u001b[1;32md:\\Users\\renc\\Anaconda3\\envs\\py36q\\lib\\site-packages\\dateutil\\parser\\_parser.py\u001b[0m in \u001b[0;36mparse\u001b[1;34m(self, timestr, default, ignoretz, tzinfos, **kwargs)\u001b[0m\n\u001b[0;32m    646\u001b[0m \u001b[1;33m\u001b[0m\u001b[0m\n\u001b[0;32m    647\u001b[0m         \u001b[1;32mif\u001b[0m \u001b[0mres\u001b[0m \u001b[1;32mis\u001b[0m \u001b[1;32mNone\u001b[0m\u001b[1;33m:\u001b[0m\u001b[1;33m\u001b[0m\u001b[0m\n\u001b[1;32m--> 648\u001b[1;33m             \u001b[1;32mraise\u001b[0m \u001b[0mValueError\u001b[0m\u001b[1;33m(\u001b[0m\u001b[1;34m\"Unknown string format:\"\u001b[0m\u001b[1;33m,\u001b[0m \u001b[0mtimestr\u001b[0m\u001b[1;33m)\u001b[0m\u001b[1;33m\u001b[0m\u001b[0m\n\u001b[0m\u001b[0;32m    649\u001b[0m \u001b[1;33m\u001b[0m\u001b[0m\n\u001b[0;32m    650\u001b[0m         \u001b[1;32mif\u001b[0m \u001b[0mlen\u001b[0m\u001b[1;33m(\u001b[0m\u001b[0mres\u001b[0m\u001b[1;33m)\u001b[0m \u001b[1;33m==\u001b[0m \u001b[1;36m0\u001b[0m\u001b[1;33m:\u001b[0m\u001b[1;33m\u001b[0m\u001b[0m\n",
      "\u001b[1;31mValueError\u001b[0m: ('Unknown string format:', 'foo')"
     ]
    }
   ],
   "source": [
    "# watch out as a failure to convert an item on the list\n",
    "# to a date/time will result in the return value being a\n",
    "# NumPy array instead of a DatetimeIndex\n",
    "dti2 = pd.to_datetime(['Aug 1, 2014', 'foo'])\n",
    "type(dti2)\n",
    "\n",
    "# renc: by default, pd.to_datetime([], errors='raise')  which raise an exception "
   ]
  },
  {
   "cell_type": "code",
   "execution_count": 13,
   "metadata": {},
   "outputs": [
    {
     "data": {
      "text/plain": [
       "DatetimeIndex(['2014-08-01', 'NaT'], dtype='datetime64[ns]', freq=None)"
      ]
     },
     "execution_count": 13,
     "metadata": {},
     "output_type": "execute_result"
    }
   ],
   "source": [
    "# coerce pandas to convert all to datetime and a DatetimeIndex\n",
    "# substituting NaT where values can not be converted\n",
    "pd.to_datetime(['Aug 1, 2014', 'foo'], errors='coerce')"
   ]
  },
  {
   "cell_type": "code",
   "execution_count": 15,
   "metadata": {},
   "outputs": [
    {
     "data": {
      "text/plain": [
       "(Timestamp('2014-08-01 00:00:00'), Timestamp('2014-08-01 00:00:00'))"
      ]
     },
     "execution_count": 15,
     "metadata": {},
     "output_type": "execute_result"
    }
   ],
   "source": [
    "# demonstrate two representations of the same date, one \n",
    "# month first, the other day first, converting to the \n",
    "# same date representation in pandas\n",
    "dti1 = pd.to_datetime(['8/1/2014'])\n",
    "dti2 = pd.to_datetime(['1/8/2014'], dayfirst=True)\n",
    "dti1[0], dti2[0]"
   ]
  },
  {
   "cell_type": "code",
   "execution_count": 11,
   "metadata": {},
   "outputs": [
    {
     "data": {
      "text/plain": [
       "2014-08-01    0.469112\n",
       "2014-08-02   -0.282863\n",
       "2014-08-03   -1.509059\n",
       "2014-08-04   -1.135632\n",
       "2014-08-05    1.212112\n",
       "Freq: D, dtype: float64"
      ]
     },
     "execution_count": 11,
     "metadata": {},
     "output_type": "execute_result"
    }
   ],
   "source": [
    "# create a Series with a DatetimeIndex starting at 8/1/2014\n",
    "# and consisting of 10 consequtive days\n",
    "np.random.seed(123456)\n",
    "dates = pd.date_range('8/1/2014', periods=10)\n",
    "s1 = pd.Series(np.random.randn(10), dates)\n",
    "s1[:5]"
   ]
  },
  {
   "cell_type": "code",
   "execution_count": 12,
   "metadata": {},
   "outputs": [
    {
     "data": {
      "text/plain": [
       "             Open   High    Low  Close    Volume  Adj Close\n",
       "Date                                                       \n",
       "2012-01-03  26.55  26.96  26.39  26.77  64731500   24.42183\n",
       "2012-01-04  26.82  27.47  26.78  27.40  80516100   24.99657\n",
       "2012-01-05  27.38  27.73  27.29  27.68  56081400   25.25201\n",
       "2012-01-06  27.53  28.19  27.53  28.11  99455500   25.64429\n",
       "2012-01-09  28.05  28.10  27.72  27.74  59706800   25.30675"
      ]
     },
     "execution_count": 12,
     "metadata": {},
     "output_type": "execute_result"
    }
   ],
   "source": [
    "# for examples of data retrieval / slicing, we will use the \n",
    "# following data from Yahoo! Finance\n",
    "import pandas.io.data as web\n",
    "msft = web.DataReader(\"MSFT\", 'yahoo', '2012-1-1', '2013-12-30')\n",
    "msft.head(5)"
   ]
  },
  {
   "cell_type": "code",
   "execution_count": 38,
   "metadata": {},
   "outputs": [
    {
     "data": {
      "text/plain": [
       "         Date   Open   High    Low  Close    Volume  Adj Close\n",
       "0  2012-01-03  26.55  26.96  26.39  26.77  64731500   24.42183\n",
       "1  2012-01-04  26.82  27.47  26.78  27.40  80516100   24.99657\n",
       "2  2012-01-05  27.38  27.73  27.29  27.68  56081400   25.25201\n",
       "3  2012-01-06  27.53  28.19  27.53  28.11  99455500   25.64429\n",
       "4  2012-01-09  28.05  28.10  27.72  27.74  59706800   25.30675"
      ]
     },
     "execution_count": 38,
     "metadata": {},
     "output_type": "execute_result"
    }
   ],
   "source": [
    "msft = pd.read_csv(\"msft.csv\")\n",
    "msft.head()"
   ]
  },
  {
   "cell_type": "code",
   "execution_count": 40,
   "metadata": {},
   "outputs": [
    {
     "data": {
      "text/plain": [
       "str"
      ]
     },
     "execution_count": 40,
     "metadata": {},
     "output_type": "execute_result"
    }
   ],
   "source": [
    "type(msft['Date'][0])\n",
    "\n",
    "# renc: str, datetime, pd.Timestamp"
   ]
  },
  {
   "cell_type": "code",
   "execution_count": 42,
   "metadata": {},
   "outputs": [
    {
     "data": {
      "text/plain": [
       "             Open   High    Low  Close    Volume  Adj Close\n",
       "Date                                                       \n",
       "2012-01-03  26.55  26.96  26.39  26.77  64731500   24.42183\n",
       "2012-01-04  26.82  27.47  26.78  27.40  80516100   24.99657\n",
       "2012-01-05  27.38  27.73  27.29  27.68  56081400   25.25201\n",
       "...           ...    ...    ...    ...       ...        ...\n",
       "2012-12-26  27.03  27.20  26.70  26.86  31631100   25.19693\n",
       "2012-12-27  26.89  27.09  26.57  26.96  39394000   25.29074\n",
       "2012-12-28  26.71  26.90  26.55  26.55  28239900   24.90612\n",
       "\n",
       "[249 rows x 6 columns]"
      ]
     },
     "execution_count": 42,
     "metadata": {},
     "output_type": "execute_result"
    }
   ],
   "source": [
    "msft.set_index(\"Date\")"
   ]
  },
  {
   "cell_type": "code",
   "execution_count": 43,
   "metadata": {},
   "outputs": [
    {
     "data": {
      "text/plain": [
       "             Open   High    Low  Close    Volume  Adj Close\n",
       "Date                                                       \n",
       "2012-01-03  26.55  26.96  26.39  26.77  64731500   24.42183\n",
       "2012-01-04  26.82  27.47  26.78  27.40  80516100   24.99657\n",
       "2012-01-05  27.38  27.73  27.29  27.68  56081400   25.25201\n",
       "2012-01-06  27.53  28.19  27.53  28.11  99455500   25.64429\n",
       "2012-01-09  28.05  28.10  27.72  27.74  59706800   25.30675"
      ]
     },
     "execution_count": 43,
     "metadata": {},
     "output_type": "execute_result"
    }
   ],
   "source": [
    "msft = msft.set_index(\"Date\")\n",
    "msft.head()"
   ]
  },
  {
   "cell_type": "code",
   "execution_count": 44,
   "metadata": {},
   "outputs": [
    {
     "data": {
      "text/plain": [
       "Date\n",
       "2012-01-03    24.42183\n",
       "2012-01-04    24.99657\n",
       "2012-01-05    25.25201\n",
       "Name: Adj Close, dtype: float64"
      ]
     },
     "execution_count": 44,
     "metadata": {},
     "output_type": "execute_result"
    }
   ],
   "source": [
    "# extract just the Adj Close values\n",
    "msftAC = msft['Adj Close']\n",
    "msftAC.head(3)"
   ]
  },
  {
   "cell_type": "code",
   "execution_count": 31,
   "metadata": {},
   "outputs": [
    {
     "data": {
      "text/plain": [
       "             Open   High    Low  Close    Volume  Adj Close\n",
       "Date                                                       \n",
       "2012-01-03  26.55  26.96  26.39  26.77  64731500   24.42183\n",
       "2012-01-04  26.82  27.47  26.78  27.40  80516100   24.99657\n",
       "2012-01-05  27.38  27.73  27.29  27.68  56081400   25.25201"
      ]
     },
     "execution_count": 31,
     "metadata": {},
     "output_type": "execute_result"
    }
   ],
   "source": [
    "# slicing using a DatetimeIndex nicely works with dates \n",
    "# passed as strings\n",
    "msft['2012-01-01':'2012-01-05']"
   ]
  },
  {
   "cell_type": "code",
   "execution_count": 32,
   "metadata": {},
   "outputs": [
    {
     "data": {
      "text/plain": [
       "             Open   High    Low  Close    Volume  Adj Close\n",
       "Date                                                       \n",
       "2012-01-03  26.55  26.96  26.39  26.77  64731500   24.42183\n",
       "2012-01-04  26.82  27.47  26.78  27.40  80516100   24.99657\n",
       "2012-01-05  27.38  27.73  27.29  27.68  56081400   25.25201"
      ]
     },
     "execution_count": 32,
     "metadata": {},
     "output_type": "execute_result"
    }
   ],
   "source": [
    "msft.loc['2012-01-01':'2012-01-05', :]"
   ]
  },
  {
   "cell_type": "code",
   "execution_count": 15,
   "metadata": {},
   "outputs": [
    {
     "data": {
      "text/plain": [
       "Open               26.55000\n",
       "High               26.96000\n",
       "Low                26.39000\n",
       "Close              26.77000\n",
       "Volume       64731500.00000\n",
       "Adj Close          24.42183\n",
       "Name: 2012-01-03 00:00:00, dtype: float64"
      ]
     },
     "execution_count": 15,
     "metadata": {},
     "output_type": "execute_result"
    }
   ],
   "source": [
    "# returns a Series representing all the values of the \n",
    "# single row indexed by the column names\n",
    "msft.loc['2012-01-03']"
   ]
  },
  {
   "cell_type": "code",
   "execution_count": 16,
   "metadata": {},
   "outputs": [],
   "source": [
    "# this is an error as this tries to retrieve a column\n",
    "# named '2012-01-03'\n",
    "# msft['2012-01-03'] # commented to prevent killing the notebook"
   ]
  },
  {
   "cell_type": "code",
   "execution_count": 17,
   "metadata": {},
   "outputs": [
    {
     "data": {
      "text/plain": [
       "24.42183"
      ]
     },
     "execution_count": 17,
     "metadata": {},
     "output_type": "execute_result"
    }
   ],
   "source": [
    "# this is a Series, so the lookup works\n",
    "msftAC['2012-01-03']"
   ]
  },
  {
   "cell_type": "code",
   "execution_count": 18,
   "metadata": {},
   "outputs": [
    {
     "data": {
      "text/plain": [
       "             Open   High    Low  Close    Volume  Adj Close\n",
       "Date                                                       \n",
       "2012-02-01  29.79  30.05  29.76  29.89  67409900   27.26815\n",
       "2012-02-02  29.90  30.17  29.71  29.95  52223300   27.32289\n",
       "2012-02-03  30.14  30.40  30.09  30.24  41838500   27.58745\n",
       "2012-02-06  30.04  30.22  29.97  30.20  28039700   27.55096\n",
       "2012-02-07  30.15  30.49  30.05  30.35  39242400   27.68781"
      ]
     },
     "execution_count": 18,
     "metadata": {},
     "output_type": "execute_result"
    }
   ],
   "source": [
    "# we can lookup using partial date specifications\n",
    "# such as only year and month\n",
    "msft['2012-02'].head(5)"
   ]
  },
  {
   "cell_type": "code",
   "execution_count": 19,
   "metadata": {},
   "outputs": [
    {
     "data": {
      "text/plain": [
       "             Open   High    Low  Close    Volume  Adj Close\n",
       "Date                                                       \n",
       "2012-02-01  29.79  30.05  29.76  29.89  67409900   27.26815\n",
       "2012-02-02  29.90  30.17  29.71  29.95  52223300   27.32289\n",
       "2012-02-03  30.14  30.40  30.09  30.24  41838500   27.58745\n",
       "2012-02-06  30.04  30.22  29.97  30.20  28039700   27.55096\n",
       "2012-02-07  30.15  30.49  30.05  30.35  39242400   27.68781"
      ]
     },
     "execution_count": 19,
     "metadata": {},
     "output_type": "execute_result"
    }
   ],
   "source": [
    "# slice starting at the beginning of Feb 2012 and \n",
    "# end on Feb 9 2012\n",
    "msft['2012-02':'2012-02-09'][:5]"
   ]
  },
  {
   "cell_type": "markdown",
   "metadata": {},
   "source": [
    "# Creating time-series with specific frequencies"
   ]
  },
  {
   "cell_type": "code",
   "execution_count": 34,
   "metadata": {},
   "outputs": [
    {
     "data": {
      "text/plain": [
       "DatetimeIndex(['2014-08-01 00:00:00', '2014-08-01 00:01:00',\n",
       "               '2014-08-01 00:02:00', '2014-08-01 00:03:00',\n",
       "               '2014-08-01 00:04:00', '2014-08-01 00:05:00',\n",
       "               '2014-08-01 00:06:00', '2014-08-01 00:07:00',\n",
       "               '2014-08-01 00:08:00', '2014-08-01 00:09:00',\n",
       "               ...\n",
       "               '2014-10-29 23:50:00', '2014-10-29 23:51:00',\n",
       "               '2014-10-29 23:52:00', '2014-10-29 23:53:00',\n",
       "               '2014-10-29 23:54:00', '2014-10-29 23:55:00',\n",
       "               '2014-10-29 23:56:00', '2014-10-29 23:57:00',\n",
       "               '2014-10-29 23:58:00', '2014-10-29 23:59:00'],\n",
       "              dtype='datetime64[ns]', length=129600, freq='T')"
      ]
     },
     "execution_count": 34,
     "metadata": {},
     "output_type": "execute_result"
    }
   ],
   "source": [
    "pd.date_range('2014-08-01', '2014-10-29 23:59:00',\n",
    "                                freq='T')"
   ]
  },
  {
   "cell_type": "code",
   "execution_count": 33,
   "metadata": {},
   "outputs": [
    {
     "data": {
      "text/plain": [
       "2014-08-01 00:00:00         0\n",
       "2014-08-01 00:01:00         1\n",
       "2014-08-01 00:02:00         2\n",
       "                        ...  \n",
       "2014-10-29 23:57:00    129597\n",
       "2014-10-29 23:58:00    129598\n",
       "2014-10-29 23:59:00    129599\n",
       "Freq: T, Length: 129600, dtype: int32"
      ]
     },
     "execution_count": 33,
     "metadata": {},
     "output_type": "execute_result"
    }
   ],
   "source": [
    "# create a time-series with one minute frequency\n",
    "bymin = pd.Series(np.arange(0, 90*60*24),\n",
    "                  pd.date_range('2014-08-01', \n",
    "                                '2014-10-29 23:59:00',\n",
    "                                freq='T'))\n",
    "bymin"
   ]
  },
  {
   "cell_type": "code",
   "execution_count": 21,
   "metadata": {},
   "outputs": [
    {
     "data": {
      "text/plain": [
       "2014-08-01 12:30:00    750\n",
       "2014-08-01 12:31:00    751\n",
       "2014-08-01 12:32:00    752\n",
       "                      ... \n",
       "2014-08-01 12:57:00    777\n",
       "2014-08-01 12:58:00    778\n",
       "2014-08-01 12:59:00    779\n",
       "Freq: T, dtype: int64"
      ]
     },
     "execution_count": 21,
     "metadata": {},
     "output_type": "execute_result"
    }
   ],
   "source": [
    "# slice at the minute level\n",
    "bymin['2014-08-01 12:30':'2014-08-01 12:59']"
   ]
  },
  {
   "cell_type": "markdown",
   "metadata": {},
   "source": [
    "# Representing intervals of time using periods"
   ]
  },
  {
   "cell_type": "code",
   "execution_count": 45,
   "metadata": {},
   "outputs": [
    {
     "data": {
      "text/plain": [
       "Period('2014-08', 'M')"
      ]
     },
     "execution_count": 45,
     "metadata": {},
     "output_type": "execute_result"
    }
   ],
   "source": [
    "# create a period representing a start of \n",
    "# 2014-08 and for a duration of one month\n",
    "aug2014 = pd.Period('2014-08', freq='M')\n",
    "aug2014"
   ]
  },
  {
   "cell_type": "code",
   "execution_count": 46,
   "metadata": {},
   "outputs": [
    {
     "data": {
      "text/plain": [
       "(Timestamp('2014-08-01 00:00:00'), Timestamp('2014-08-31 23:59:59.999999999'))"
      ]
     },
     "execution_count": 46,
     "metadata": {},
     "output_type": "execute_result"
    }
   ],
   "source": [
    "# pandas determined the following start and end\n",
    "# for the period\n",
    "aug2014.start_time, aug2014.end_time"
   ]
  },
  {
   "cell_type": "code",
   "execution_count": 47,
   "metadata": {},
   "outputs": [
    {
     "data": {
      "text/plain": [
       "Period('2014-09', 'M')"
      ]
     },
     "execution_count": 47,
     "metadata": {},
     "output_type": "execute_result"
    }
   ],
   "source": [
    "# what is the one month period following the given period?\n",
    "sep2014 = aug2014 + 1\n",
    "sep2014"
   ]
  },
  {
   "cell_type": "code",
   "execution_count": 48,
   "metadata": {},
   "outputs": [
    {
     "data": {
      "text/plain": [
       "(Timestamp('2014-09-01 00:00:00'), Timestamp('2014-09-30 23:59:59.999999999'))"
      ]
     },
     "execution_count": 48,
     "metadata": {},
     "output_type": "execute_result"
    }
   ],
   "source": [
    "# the calculated start and end are\n",
    "sep2014.start_time, sep2014.end_time"
   ]
  },
  {
   "cell_type": "code",
   "execution_count": 49,
   "metadata": {},
   "outputs": [
    {
     "data": {
      "text/plain": [
       "PeriodIndex(['2013-01', '2013-02', '2013-03', '2013-04', '2013-05', '2013-06',\n",
       "             '2013-07', '2013-08', '2013-09', '2013-10', '2013-11', '2013-12'],\n",
       "            dtype='period[M]', freq='M')"
      ]
     },
     "execution_count": 49,
     "metadata": {},
     "output_type": "execute_result"
    }
   ],
   "source": [
    "# create a pandas PeriodIndex\n",
    "mp2013 = pd.period_range('1/1/2013', '12/31/2013', freq='M')\n",
    "mp2013"
   ]
  },
  {
   "cell_type": "code",
   "execution_count": 52,
   "metadata": {},
   "outputs": [
    {
     "name": "stdout",
     "output_type": "stream",
     "text": [
      "2013-01, <MonthEnd>, 2013-01-01 00:00:00, 2013-01-31 23:59:59.999999999\n",
      "2013-02, <MonthEnd>, 2013-02-01 00:00:00, 2013-02-28 23:59:59.999999999\n",
      "2013-03, <MonthEnd>, 2013-03-01 00:00:00, 2013-03-31 23:59:59.999999999\n",
      "2013-04, <MonthEnd>, 2013-04-01 00:00:00, 2013-04-30 23:59:59.999999999\n",
      "2013-05, <MonthEnd>, 2013-05-01 00:00:00, 2013-05-31 23:59:59.999999999\n",
      "2013-06, <MonthEnd>, 2013-06-01 00:00:00, 2013-06-30 23:59:59.999999999\n",
      "2013-07, <MonthEnd>, 2013-07-01 00:00:00, 2013-07-31 23:59:59.999999999\n",
      "2013-08, <MonthEnd>, 2013-08-01 00:00:00, 2013-08-31 23:59:59.999999999\n",
      "2013-09, <MonthEnd>, 2013-09-01 00:00:00, 2013-09-30 23:59:59.999999999\n",
      "2013-10, <MonthEnd>, 2013-10-01 00:00:00, 2013-10-31 23:59:59.999999999\n",
      "2013-11, <MonthEnd>, 2013-11-01 00:00:00, 2013-11-30 23:59:59.999999999\n",
      "2013-12, <MonthEnd>, 2013-12-01 00:00:00, 2013-12-31 23:59:59.999999999\n"
     ]
    }
   ],
   "source": [
    "# dump all the calculated periods\n",
    "for p in mp2013: \n",
    "    print (\"{0}, {1}, {2}, {3}\".format(p, \n",
    "                                   p.freq, \n",
    "                                   p.start_time, \n",
    "                                   p.end_time) )\n",
    "    \n",
    "# renc, note some last day is 30, some is 31, it can do it for us."
   ]
  },
  {
   "cell_type": "code",
   "execution_count": 28,
   "metadata": {},
   "outputs": [
    {
     "data": {
      "text/plain": [
       "2013-01    0.469112\n",
       "2013-02   -0.282863\n",
       "2013-03   -1.509059\n",
       "             ...   \n",
       "2013-10   -2.104569\n",
       "2013-11   -0.494929\n",
       "2013-12    1.071804\n",
       "Freq: M, dtype: float64"
      ]
     },
     "execution_count": 28,
     "metadata": {},
     "output_type": "execute_result"
    }
   ],
   "source": [
    "# and now create a Series using the PeriodIndex\n",
    "np.random.seed(123456)\n",
    "ps = pd.Series(np.random.randn(12), mp2013)\n",
    "ps"
   ]
  },
  {
   "cell_type": "markdown",
   "metadata": {},
   "source": [
    "# Shifting and lagging time-series data"
   ]
  },
  {
   "cell_type": "code",
   "execution_count": 53,
   "metadata": {},
   "outputs": [
    {
     "data": {
      "text/plain": [
       "Date\n",
       "2012-01-03    24.42183\n",
       "2012-01-04    24.99657\n",
       "2012-01-05    25.25201\n",
       "2012-01-06    25.64429\n",
       "2012-01-09    25.30675\n",
       "Name: Adj Close, dtype: float64"
      ]
     },
     "execution_count": 53,
     "metadata": {},
     "output_type": "execute_result"
    }
   ],
   "source": [
    "# refresh our memory on the data in the MSFT closing prices Series\n",
    "msftAC[:5]"
   ]
  },
  {
   "cell_type": "code",
   "execution_count": 54,
   "metadata": {},
   "outputs": [
    {
     "data": {
      "text/plain": [
       "Date\n",
       "2012-01-03         NaN\n",
       "2012-01-04    24.42183\n",
       "2012-01-05    24.99657\n",
       "2012-01-06    25.25201\n",
       "2012-01-09    25.64429\n",
       "Name: Adj Close, dtype: float64"
      ]
     },
     "execution_count": 54,
     "metadata": {},
     "output_type": "execute_result"
    }
   ],
   "source": [
    "# shift the prices one index position forward\n",
    "shifted_forward = msftAC.shift(1)\n",
    "shifted_forward[:5]"
   ]
  },
  {
   "cell_type": "code",
   "execution_count": 55,
   "metadata": {},
   "outputs": [
    {
     "data": {
      "text/plain": [
       "(Date\n",
       " 2012-12-21    25.75040\n",
       " 2012-12-24    25.38455\n",
       " 2012-12-26    25.19693\n",
       " 2012-12-27    25.29074\n",
       " 2012-12-28    24.90612\n",
       " Name: Adj Close, dtype: float64, Date\n",
       " 2012-12-21    25.96616\n",
       " 2012-12-24    25.75040\n",
       " 2012-12-26    25.38455\n",
       " 2012-12-27    25.19693\n",
       " 2012-12-28    25.29074\n",
       " Name: Adj Close, dtype: float64)"
      ]
     },
     "execution_count": 55,
     "metadata": {},
     "output_type": "execute_result"
    }
   ],
   "source": [
    "# the last item is also shifted away \n",
    "msftAC.tail(5), shifted_forward.tail(5)"
   ]
  },
  {
   "cell_type": "code",
   "execution_count": 56,
   "metadata": {},
   "outputs": [
    {
     "data": {
      "text/plain": [
       "Date\n",
       "2012-01-03    25.25201\n",
       "2012-01-04    25.64429\n",
       "2012-01-05    25.30675\n",
       "2012-01-06    25.39797\n",
       "2012-01-09    25.28850\n",
       "Name: Adj Close, dtype: float64"
      ]
     },
     "execution_count": 56,
     "metadata": {},
     "output_type": "execute_result"
    }
   ],
   "source": [
    "# shift backwards 2 index labels\n",
    "shifted_backwards = msftAC.shift(-2)\n",
    "shifted_backwards[:5]"
   ]
  },
  {
   "cell_type": "code",
   "execution_count": 57,
   "metadata": {},
   "outputs": [
    {
     "data": {
      "text/plain": [
       "Date\n",
       "2012-12-21    25.19693\n",
       "2012-12-24    25.29074\n",
       "2012-12-26    24.90612\n",
       "2012-12-27         NaN\n",
       "2012-12-28         NaN\n",
       "Name: Adj Close, dtype: float64"
      ]
     },
     "execution_count": 57,
     "metadata": {},
     "output_type": "execute_result"
    }
   ],
   "source": [
    "# this has resulted in 2 NaN values at \n",
    "# the end of the resulting Series\n",
    "shifted_backwards.tail(5)"
   ]
  },
  {
   "cell_type": "code",
   "execution_count": 36,
   "metadata": {},
   "outputs": [
    {
     "data": {
      "text/plain": [
       "Date\n",
       "2012-01-03 00:00:01    24.42183\n",
       "2012-01-04 00:00:01    24.99657\n",
       "2012-01-05 00:00:01    25.25201\n",
       "                         ...   \n",
       "2013-12-26 00:00:01    36.18461\n",
       "2013-12-27 00:00:01    36.03964\n",
       "2013-12-30 00:00:01    36.03964\n",
       "Name: Adj Close, dtype: float64"
      ]
     },
     "execution_count": 36,
     "metadata": {},
     "output_type": "execute_result"
    }
   ],
   "source": [
    "# shift by a different frequency does not realign\n",
    "# and ends up essentially changing the index labels by\n",
    "# the specific amount of time\n",
    "msftAC.shift(1, freq=\"S\")"
   ]
  },
  {
   "cell_type": "code",
   "execution_count": 37,
   "metadata": {},
   "outputs": [
    {
     "data": {
      "text/plain": [
       "Date\n",
       "2012-01-04    24.42183\n",
       "2012-01-05    24.99657\n",
       "2012-01-06    25.25201\n",
       "                ...   \n",
       "2013-12-27    36.18461\n",
       "2013-12-28    36.03964\n",
       "2013-12-31    36.03964\n",
       "Name: Adj Close, dtype: float64"
      ]
     },
     "execution_count": 37,
     "metadata": {},
     "output_type": "execute_result"
    }
   ],
   "source": [
    "# resulting Series has one day added to all index labels\n",
    "msftAC.tshift(1, freq=\"D\")"
   ]
  },
  {
   "cell_type": "code",
   "execution_count": 38,
   "metadata": {},
   "outputs": [
    {
     "data": {
      "text/plain": [
       "Date\n",
       "2012-01-03         NaN\n",
       "2012-01-04    0.023534\n",
       "2012-01-05    0.010219\n",
       "                ...   \n",
       "2013-12-26    0.009709\n",
       "2013-12-27   -0.004006\n",
       "2013-12-30    0.000000\n",
       "Name: Adj Close, dtype: float64"
      ]
     },
     "execution_count": 38,
     "metadata": {},
     "output_type": "execute_result"
    }
   ],
   "source": [
    "# calculate the percentage change in closing price\n",
    "msftAC / msftAC.shift(1) - 1"
   ]
  },
  {
   "cell_type": "markdown",
   "metadata": {},
   "source": [
    "# Frequency conversion of time-series data"
   ]
  },
  {
   "cell_type": "code",
   "execution_count": 39,
   "metadata": {},
   "outputs": [
    {
     "data": {
      "text/plain": [
       "Date\n",
       "2012-01-03    24.42183\n",
       "2012-01-04    24.99657\n",
       "Name: Adj Close, dtype: float64"
      ]
     },
     "execution_count": 39,
     "metadata": {},
     "output_type": "execute_result"
    }
   ],
   "source": [
    "# take a two item sample of the msftAC data for demonstrations\n",
    "sample = msftAC[:2]\n",
    "sample"
   ]
  },
  {
   "cell_type": "code",
   "execution_count": 40,
   "metadata": {},
   "outputs": [
    {
     "data": {
      "text/plain": [
       "2012-01-03 00:00:00    24.42183\n",
       "2012-01-03 01:00:00         NaN\n",
       "2012-01-03 02:00:00         NaN\n",
       "                         ...   \n",
       "2012-01-03 22:00:00         NaN\n",
       "2012-01-03 23:00:00         NaN\n",
       "2012-01-04 00:00:00    24.99657\n",
       "Freq: H, Name: Adj Close, dtype: float64"
      ]
     },
     "execution_count": 40,
     "metadata": {},
     "output_type": "execute_result"
    }
   ],
   "source": [
    "# demonstrate resampling to hour intervals\n",
    "# realignment causes many NaN's\n",
    "sample.asfreq(\"H\")"
   ]
  },
  {
   "cell_type": "code",
   "execution_count": 41,
   "metadata": {},
   "outputs": [
    {
     "data": {
      "text/plain": [
       "2012-01-03 00:00:00    24.42183\n",
       "2012-01-03 01:00:00    24.42183\n",
       "2012-01-03 02:00:00    24.42183\n",
       "                         ...   \n",
       "2012-01-03 22:00:00    24.42183\n",
       "2012-01-03 23:00:00    24.42183\n",
       "2012-01-04 00:00:00    24.99657\n",
       "Freq: H, Name: Adj Close, dtype: float64"
      ]
     },
     "execution_count": 41,
     "metadata": {},
     "output_type": "execute_result"
    }
   ],
   "source": [
    "# fill NaN's with the last know non-NaN valuen\n",
    "sample.asfreq(\"H\", method=\"ffill\")"
   ]
  },
  {
   "cell_type": "code",
   "execution_count": 42,
   "metadata": {},
   "outputs": [
    {
     "data": {
      "text/plain": [
       "2012-01-03 00:00:00    24.42183\n",
       "2012-01-03 01:00:00    24.99657\n",
       "2012-01-03 02:00:00    24.99657\n",
       "                         ...   \n",
       "2012-01-03 22:00:00    24.99657\n",
       "2012-01-03 23:00:00    24.99657\n",
       "2012-01-04 00:00:00    24.99657\n",
       "Freq: H, Name: Adj Close, dtype: float64"
      ]
     },
     "execution_count": 42,
     "metadata": {},
     "output_type": "execute_result"
    }
   ],
   "source": [
    "# fill with the \"next known\" value\n",
    "sample.asfreq(\"H\", method=\"bfill\")"
   ]
  },
  {
   "cell_type": "markdown",
   "metadata": {},
   "source": [
    "## Up and down resampling of time-series"
   ]
  },
  {
   "cell_type": "code",
   "execution_count": 43,
   "metadata": {},
   "outputs": [
    {
     "data": {
      "text/plain": [
       "Date\n",
       "2012-01-03         NaN\n",
       "2012-01-04    1.023534\n",
       "2012-01-05    1.033993\n",
       "                ...   \n",
       "2013-12-26    1.481650\n",
       "2013-12-27    1.475714\n",
       "2013-12-30    1.475714\n",
       "Name: Adj Close, dtype: float64"
      ]
     },
     "execution_count": 43,
     "metadata": {},
     "output_type": "execute_result"
    }
   ],
   "source": [
    "# calculate the cumulative daily returns for MSFT\n",
    "msft_cum_ret = (1 + (msftAC / msftAC.shift() - 1)).cumprod()\n",
    "msft_cum_ret"
   ]
  },
  {
   "cell_type": "code",
   "execution_count": 44,
   "metadata": {},
   "outputs": [
    {
     "data": {
      "text/plain": [
       "Date\n",
       "2012-01-31    1.068675\n",
       "2012-02-29    1.155697\n",
       "2012-03-31    1.210570\n",
       "                ...   \n",
       "2013-10-31    1.350398\n",
       "2013-11-30    1.471915\n",
       "2013-12-31    1.482362\n",
       "Freq: M, Name: Adj Close, dtype: float64"
      ]
     },
     "execution_count": 44,
     "metadata": {},
     "output_type": "execute_result"
    }
   ],
   "source": [
    "# resample to a monthly cumulative return\n",
    "msft_monthly_cum_ret = msft_cum_ret.resample(\"M\")\n",
    "msft_monthly_cum_ret"
   ]
  },
  {
   "cell_type": "code",
   "execution_count": 45,
   "metadata": {},
   "outputs": [
    {
     "data": {
      "text/plain": [
       "1.0686746674033674"
      ]
     },
     "execution_count": 45,
     "metadata": {},
     "output_type": "execute_result"
    }
   ],
   "source": [
    "# verify the monthly average for 2012-01\n",
    "msft_cum_ret['2012-01'].mean()"
   ]
  },
  {
   "cell_type": "code",
   "execution_count": 46,
   "metadata": {},
   "outputs": [
    {
     "data": {
      "text/plain": [
       "Date\n",
       "2012-01-31    1.068675\n",
       "2012-02-29    1.155697\n",
       "2012-03-31    1.210570\n",
       "                ...   \n",
       "2013-10-31    1.350398\n",
       "2013-11-30    1.471915\n",
       "2013-12-31    1.482362\n",
       "Freq: M, Name: Adj Close, dtype: float64"
      ]
     },
     "execution_count": 46,
     "metadata": {},
     "output_type": "execute_result"
    }
   ],
   "source": [
    "# verify that the default resample techique is mean\n",
    "msft_cum_ret.resample(\"M\", how=\"mean\")"
   ]
  },
  {
   "cell_type": "code",
   "execution_count": 47,
   "metadata": {},
   "outputs": [
    {
     "data": {
      "text/plain": [
       "                open      high       low     close\n",
       "Date                                              \n",
       "2012-01-31  1.023534  1.110572  1.023534  1.103100\n",
       "2012-02-29  1.116548  1.198349  1.116548  1.193461\n",
       "2012-03-31  1.214142  1.235198  1.186693  1.213014\n",
       "2012-04-30  1.214142  1.219030  1.141195  1.203990\n",
       "2012-05-31  1.203613  1.203613  1.099860  1.104780"
      ]
     },
     "execution_count": 47,
     "metadata": {},
     "output_type": "execute_result"
    }
   ],
   "source": [
    "# resample to monthly and give us open, high, low, close\n",
    "msft_cum_ret.resample(\"M\", how=\"ohlc\")[:5]"
   ]
  },
  {
   "cell_type": "code",
   "execution_count": 48,
   "metadata": {},
   "outputs": [
    {
     "name": "stdout",
     "output_type": "stream",
     "text": [
      "2012-01-01 00:00:00:2012-01-31 23:59:59.999999999 1.0686746674\n",
      "2012-02-01 00:00:00:2012-02-29 23:59:59.999999999 1.15569744364\n",
      "2012-03-01 00:00:00:2012-03-31 23:59:59.999999999 1.21056956383\n",
      "2012-04-01 00:00:00:2012-04-30 23:59:59.999999999 1.18464361598\n",
      "2012-05-01 00:00:00:2012-05-31 23:59:59.999999999 1.14051599439\n"
     ]
    }
   ],
   "source": [
    "# this will return an index with periods instead of timestamps\n",
    "by_periods = msft_cum_ret.resample(\"M\", how=\"mean\", kind=\"period\")\n",
    "for i in by_periods.index[:5]: \n",
    "    print (\"{0}:{1} {2}\".format(i.start_time, \n",
    "                                i.end_time, \n",
    "                                by_periods[i]))"
   ]
  },
  {
   "cell_type": "code",
   "execution_count": 49,
   "metadata": {},
   "outputs": [
    {
     "data": {
      "text/plain": [
       "Date\n",
       "2012-01-04    1.023534\n",
       "2012-01-05    1.033993\n",
       "Name: Adj Close, dtype: float64"
      ]
     },
     "execution_count": 49,
     "metadata": {},
     "output_type": "execute_result"
    }
   ],
   "source": [
    "# upsampling will be demonstrated using the second\n",
    "# and third values (first is NaN)\n",
    "sample = msft_cum_ret[1:3]\n",
    "sample"
   ]
  },
  {
   "cell_type": "code",
   "execution_count": 50,
   "metadata": {},
   "outputs": [
    {
     "data": {
      "text/plain": [
       "Date\n",
       "2012-01-04 00:00:00    1.023534\n",
       "2012-01-04 01:00:00         NaN\n",
       "2012-01-04 02:00:00         NaN\n",
       "                         ...   \n",
       "2012-01-04 22:00:00         NaN\n",
       "2012-01-04 23:00:00         NaN\n",
       "2012-01-05 00:00:00    1.033993\n",
       "Freq: H, Name: Adj Close, dtype: float64"
      ]
     },
     "execution_count": 50,
     "metadata": {},
     "output_type": "execute_result"
    }
   ],
   "source": [
    "# upsampling this will have a lot of NaN's\n",
    "by_hour = sample.resample(\"H\")\n",
    "by_hour"
   ]
  },
  {
   "cell_type": "code",
   "execution_count": 51,
   "metadata": {},
   "outputs": [
    {
     "data": {
      "text/plain": [
       "Date\n",
       "2012-01-04 00:00:00    1.023534\n",
       "2012-01-04 01:00:00    1.023970\n",
       "2012-01-04 02:00:00    1.024405\n",
       "                         ...   \n",
       "2012-01-04 22:00:00    1.033122\n",
       "2012-01-04 23:00:00    1.033558\n",
       "2012-01-05 00:00:00    1.033993\n",
       "Freq: H, Name: Adj Close, dtype: float64"
      ]
     },
     "execution_count": 51,
     "metadata": {},
     "output_type": "execute_result"
    }
   ],
   "source": [
    "by_hour.interpolate()"
   ]
  }
 ],
 "metadata": {
  "kernelspec": {
   "display_name": "Python 3",
   "language": "python",
   "name": "python3"
  },
  "language_info": {
   "codemirror_mode": {
    "name": "ipython",
    "version": 3
   },
   "file_extension": ".py",
   "mimetype": "text/x-python",
   "name": "python",
   "nbconvert_exporter": "python",
   "pygments_lexer": "ipython3",
   "version": "3.6.5"
  }
 },
 "nbformat": 4,
 "nbformat_minor": 1
}
