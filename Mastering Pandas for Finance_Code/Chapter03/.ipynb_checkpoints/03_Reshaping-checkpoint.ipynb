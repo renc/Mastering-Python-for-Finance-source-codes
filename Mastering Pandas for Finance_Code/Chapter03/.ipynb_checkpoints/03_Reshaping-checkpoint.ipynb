{
 "cells": [
  {
   "cell_type": "markdown",
   "metadata": {},
   "source": [
    "# Reshaping, Reorganizing and Aggregation"
   ]
  },
  {
   "cell_type": "code",
   "execution_count": 5,
   "metadata": {},
   "outputs": [],
   "source": [
    "# import pandas and NumPy\n",
    "import pandas as pd\n",
    "import numpy as np\n",
    "\n",
    "# date and time functions\n",
    "import datetime\n",
    "\n",
    "# bring in matplotlib and draw inline\n",
    "import matplotlib.pyplot as plt\n",
    "%matplotlib inline\n",
    "\n",
    "# Set some Pandas options\n",
    "pd.set_option('display.notebook_repr_html', False)\n",
    "pd.set_option('display.max_columns', 15)\n",
    "pd.set_option('display.max_rows', 8)\n",
    "pd.set_option('precision', 3)"
   ]
  },
  {
   "cell_type": "markdown",
   "metadata": {},
   "source": [
    "## Loading historical stock data from the web or from files"
   ]
  },
  {
   "cell_type": "markdown",
   "metadata": {},
   "source": [
    "### From Web"
   ]
  },
  {
   "cell_type": "code",
   "execution_count": 6,
   "metadata": {},
   "outputs": [
    {
     "ename": "ModuleNotFoundError",
     "evalue": "No module named 'pandas.io.data'",
     "output_type": "error",
     "traceback": [
      "\u001b[1;31m---------------------------------------------------------------------------\u001b[0m",
      "\u001b[1;31mModuleNotFoundError\u001b[0m                       Traceback (most recent call last)",
      "\u001b[1;32m<ipython-input-6-1ba60e14157b>\u001b[0m in \u001b[0;36m<module>\u001b[1;34m()\u001b[0m\n\u001b[0;32m      1\u001b[0m \u001b[1;31m# for the DataReader\u001b[0m\u001b[1;33m\u001b[0m\u001b[1;33m\u001b[0m\u001b[0m\n\u001b[1;32m----> 2\u001b[1;33m \u001b[1;32mimport\u001b[0m \u001b[0mpandas\u001b[0m\u001b[1;33m.\u001b[0m\u001b[0mio\u001b[0m\u001b[1;33m.\u001b[0m\u001b[0mdata\u001b[0m \u001b[1;32mas\u001b[0m \u001b[0mweb\u001b[0m\u001b[1;33m\u001b[0m\u001b[0m\n\u001b[0m\u001b[0;32m      3\u001b[0m \u001b[1;33m\u001b[0m\u001b[0m\n\u001b[0;32m      4\u001b[0m \u001b[1;31m# start end end dates\u001b[0m\u001b[1;33m\u001b[0m\u001b[1;33m\u001b[0m\u001b[0m\n\u001b[0;32m      5\u001b[0m \u001b[0mstart\u001b[0m \u001b[1;33m=\u001b[0m \u001b[0mdatetime\u001b[0m\u001b[1;33m.\u001b[0m\u001b[0mdatetime\u001b[0m\u001b[1;33m(\u001b[0m\u001b[1;36m2012\u001b[0m\u001b[1;33m,\u001b[0m \u001b[1;36m1\u001b[0m\u001b[1;33m,\u001b[0m \u001b[1;36m1\u001b[0m\u001b[1;33m)\u001b[0m\u001b[1;33m\u001b[0m\u001b[0m\n",
      "\u001b[1;31mModuleNotFoundError\u001b[0m: No module named 'pandas.io.data'"
     ]
    }
   ],
   "source": [
    "# for the DataReader\n",
    "import pandas.io.data as web\n",
    "\n",
    "# start end end dates\n",
    "start = datetime.datetime(2012, 1, 1)\n",
    "end = datetime.datetime(2012, 12, 30)\n",
    "\n",
    "# load the data\n",
    "#msft = web.DataReader(\"MSFT\", 'yahoo', start, end)\n",
    "#aapl = web.DataReader(\"AAPL\", 'yahoo', start, end)\n",
    "\n",
    "# these save the data to file - optional for the examples\n",
    "#msft.to_csv(\"msft.csv\")\n",
    "#aapl.to_csv(\"aapl.csv\")"
   ]
  },
  {
   "cell_type": "markdown",
   "metadata": {},
   "source": [
    "### From file"
   ]
  },
  {
   "cell_type": "code",
   "execution_count": 8,
   "metadata": {},
   "outputs": [],
   "source": [
    "# read the Microsoft and Apple data from file\n",
    "msft = pd.read_csv(\"msft.csv\", index_col=0, parse_dates=True)\n",
    "aapl = pd.read_csv(\"aapl.csv\", index_col=0, parse_dates=True)"
   ]
  },
  {
   "cell_type": "markdown",
   "metadata": {},
   "source": [
    "### Organizing the data for the examples"
   ]
  },
  {
   "cell_type": "code",
   "execution_count": 9,
   "metadata": {},
   "outputs": [
    {
     "data": {
      "text/plain": [
       "             Open   High    Low  Close    Volume  Adj Close\n",
       "Date                                                       \n",
       "2012-01-03  26.55  26.96  26.39  26.77  64731500     24.422\n",
       "2012-01-04  26.82  27.47  26.78  27.40  80516100     24.997\n",
       "2012-01-05  27.38  27.73  27.29  27.68  56081400     25.252"
      ]
     },
     "execution_count": 9,
     "metadata": {},
     "output_type": "execute_result"
    }
   ],
   "source": [
    "msft[:3]"
   ]
  },
  {
   "cell_type": "code",
   "execution_count": 10,
   "metadata": {},
   "outputs": [
    {
     "data": {
      "text/plain": [
       "              Open    High     Low   Close    Volume  Adj Close\n",
       "Date                                                           \n",
       "2012-01-03  409.40  412.50  409.00  411.23  75555200     55.414\n",
       "2012-01-04  410.00  414.68  409.28  413.44  65005500     55.711\n",
       "2012-01-05  414.95  418.55  412.67  418.03  67817400     56.330"
      ]
     },
     "execution_count": 10,
     "metadata": {},
     "output_type": "execute_result"
    }
   ],
   "source": [
    "aapl[:3]"
   ]
  },
  {
   "cell_type": "code",
   "execution_count": 11,
   "metadata": {},
   "outputs": [
    {
     "data": {
      "text/plain": [
       "numpy.datetime64"
      ]
     },
     "execution_count": 11,
     "metadata": {},
     "output_type": "execute_result"
    }
   ],
   "source": [
    "type(aapl.index.values[0])"
   ]
  },
  {
   "cell_type": "markdown",
   "metadata": {},
   "source": [
    "# Reorganizing and reshaping data"
   ]
  },
  {
   "cell_type": "markdown",
   "metadata": {},
   "source": [
    "## Concatenating data in Multiple DataFrame objects"
   ]
  },
  {
   "cell_type": "code",
   "execution_count": 12,
   "metadata": {},
   "outputs": [
    {
     "data": {
      "text/plain": [
       "            Adj Close\n",
       "Date                 \n",
       "2012-01-03     24.422\n",
       "2012-01-04     24.997\n",
       "2012-01-05     25.252"
      ]
     },
     "execution_count": 12,
     "metadata": {},
     "output_type": "execute_result"
    }
   ],
   "source": [
    "# get MSFT adjusted close data for Jan and Feb 2012\n",
    "msftA01 = msft['2012-01'][['Adj Close']]\n",
    "msftA02 = msft['2012-02'][['Adj Close']]\n",
    "msftA01[:3]"
   ]
  },
  {
   "cell_type": "code",
   "execution_count": 13,
   "metadata": {},
   "outputs": [
    {
     "data": {
      "text/plain": [
       "            Adj Close\n",
       "Date                 \n",
       "2012-02-01     27.268\n",
       "2012-02-02     27.323\n",
       "2012-02-03     27.587"
      ]
     },
     "execution_count": 13,
     "metadata": {},
     "output_type": "execute_result"
    }
   ],
   "source": [
    "msftA02[:3]"
   ]
  },
  {
   "cell_type": "code",
   "execution_count": 14,
   "metadata": {},
   "outputs": [
    {
     "data": {
      "text/plain": [
       "            Adj Close\n",
       "Date                 \n",
       "2012-01-03     24.422\n",
       "2012-01-04     24.997\n",
       "2012-01-05     25.252\n",
       "2012-02-01     27.268\n",
       "2012-02-02     27.323\n",
       "2012-02-03     27.587"
      ]
     },
     "execution_count": 14,
     "metadata": {},
     "output_type": "execute_result"
    }
   ],
   "source": [
    "# combine the first three rows of each of msftA01 and msftA02\n",
    "pd.concat([msftA01.head(3), msftA02.head(3)])"
   ]
  },
  {
   "cell_type": "code",
   "execution_count": 1,
   "metadata": {},
   "outputs": [
    {
     "ename": "NameError",
     "evalue": "name 'aapl' is not defined",
     "output_type": "error",
     "traceback": [
      "\u001b[1;31m---------------------------------------------------------------------------\u001b[0m",
      "\u001b[1;31mNameError\u001b[0m                                 Traceback (most recent call last)",
      "\u001b[1;32m<ipython-input-1-ef343c4c3a38>\u001b[0m in \u001b[0;36m<module>\u001b[1;34m()\u001b[0m\n\u001b[0;32m      1\u001b[0m \u001b[1;31m# Extract only the Jan 2012 AAPL values.\u001b[0m\u001b[1;33m\u001b[0m\u001b[1;33m\u001b[0m\u001b[0m\n\u001b[1;32m----> 2\u001b[1;33m \u001b[0maaplA01\u001b[0m \u001b[1;33m=\u001b[0m \u001b[0maapl\u001b[0m\u001b[1;33m[\u001b[0m\u001b[1;34m'2012-01'\u001b[0m\u001b[1;33m]\u001b[0m\u001b[1;33m[\u001b[0m\u001b[1;33m[\u001b[0m\u001b[1;34m'Adj Close'\u001b[0m\u001b[1;33m]\u001b[0m\u001b[1;33m]\u001b[0m\u001b[1;33m\u001b[0m\u001b[0m\n\u001b[0m\u001b[0;32m      3\u001b[0m \u001b[1;31m# now concat the AAPL and MSFT Jan 2012 data\u001b[0m\u001b[1;33m\u001b[0m\u001b[1;33m\u001b[0m\u001b[0m\n\u001b[0;32m      4\u001b[0m \u001b[1;31m# there will be duplicate index labels\u001b[0m\u001b[1;33m\u001b[0m\u001b[1;33m\u001b[0m\u001b[0m\n\u001b[0;32m      5\u001b[0m \u001b[0mwithDups\u001b[0m \u001b[1;33m=\u001b[0m \u001b[0mpd\u001b[0m\u001b[1;33m.\u001b[0m\u001b[0mconcat\u001b[0m\u001b[1;33m(\u001b[0m\u001b[1;33m[\u001b[0m\u001b[0mmsftA01\u001b[0m\u001b[1;33m[\u001b[0m\u001b[1;33m:\u001b[0m\u001b[1;36m3\u001b[0m\u001b[1;33m]\u001b[0m\u001b[1;33m,\u001b[0m \u001b[0maaplA01\u001b[0m\u001b[1;33m[\u001b[0m\u001b[1;33m:\u001b[0m\u001b[1;36m3\u001b[0m\u001b[1;33m]\u001b[0m\u001b[1;33m]\u001b[0m\u001b[1;33m)\u001b[0m\u001b[1;33m\u001b[0m\u001b[0m\n",
      "\u001b[1;31mNameError\u001b[0m: name 'aapl' is not defined"
     ]
    }
   ],
   "source": [
    "# Extract only the Jan 2012 AAPL values.  \n",
    "aaplA01 = aapl['2012-01'][['Adj Close']]\n",
    "# now concat the AAPL and MSFT Jan 2012 data\n",
    "# there will be duplicate index labels\n",
    "withDups = pd.concat([msftA01[:3], aaplA01[:3]])\n",
    "withDups\n",
    "\n",
    "# renc: !! two procudt (AAPL, MSFT) with the same days (duplicated days)\n",
    "# renc: allow to have duplciated index, "
   ]
  },
  {
   "cell_type": "code",
   "execution_count": 16,
   "metadata": {},
   "outputs": [
    {
     "name": "stderr",
     "output_type": "stream",
     "text": [
      "d:\\Users\\renc\\Anaconda3\\envs\\py36q\\lib\\site-packages\\ipykernel_launcher.py:2: DeprecationWarning: \n",
      ".ix is deprecated. Please use\n",
      ".loc for label based indexing or\n",
      ".iloc for positional indexing\n",
      "\n",
      "See the documentation here:\n",
      "http://pandas.pydata.org/pandas-docs/stable/indexing.html#ix-indexer-is-deprecated\n",
      "  \n"
     ]
    },
    {
     "data": {
      "text/plain": [
       "            Adj Close\n",
       "Date                 \n",
       "2012-01-03     24.422\n",
       "2012-01-03     55.414"
      ]
     },
     "execution_count": 16,
     "metadata": {},
     "output_type": "execute_result"
    }
   ],
   "source": [
    "# show the two records for data of 2012-01-03\n",
    "withDups.ix['2012-01-03']"
   ]
  },
  {
   "cell_type": "code",
   "execution_count": 17,
   "metadata": {},
   "outputs": [
    {
     "data": {
      "text/plain": [
       "                 Adj Close\n",
       "     Date                 \n",
       "MSFT 2012-01-03     24.422\n",
       "     2012-01-04     24.997\n",
       "     2012-01-05     25.252\n",
       "AAPL 2012-01-03     55.414\n",
       "     2012-01-04     55.711\n",
       "     2012-01-05     56.330"
      ]
     },
     "execution_count": 17,
     "metadata": {},
     "output_type": "execute_result"
    }
   ],
   "source": [
    "# demonstrate concat with a specification of the \n",
    "# stock tickets being part of the index\n",
    "# this help disambiguate the duplicate dates using\n",
    "# a hierarchal index\n",
    "closes = pd.concat([msftA01[:3], aaplA01[:3]], \n",
    "                    keys=['MSFT', 'AAPL'])\n",
    "closes"
   ]
  },
  {
   "cell_type": "code",
   "execution_count": 18,
   "metadata": {},
   "outputs": [
    {
     "name": "stderr",
     "output_type": "stream",
     "text": [
      "d:\\Users\\renc\\Anaconda3\\envs\\py36q\\lib\\site-packages\\ipykernel_launcher.py:2: DeprecationWarning: \n",
      ".ix is deprecated. Please use\n",
      ".loc for label based indexing or\n",
      ".iloc for positional indexing\n",
      "\n",
      "See the documentation here:\n",
      "http://pandas.pydata.org/pandas-docs/stable/indexing.html#ix-indexer-is-deprecated\n",
      "  \n"
     ]
    },
    {
     "data": {
      "text/plain": [
       "            Adj Close\n",
       "Date                 \n",
       "2012-01-03     24.422\n",
       "2012-01-04     24.997\n",
       "2012-01-05     25.252"
      ]
     },
     "execution_count": 18,
     "metadata": {},
     "output_type": "execute_result"
    }
   ],
   "source": [
    "# extract just MSFT values using .ix\n",
    "closes.ix['MSFT'][:3]"
   ]
  },
  {
   "cell_type": "code",
   "execution_count": 19,
   "metadata": {},
   "outputs": [
    {
     "data": {
      "text/plain": [
       "            Adj Close\n",
       "Date                 \n",
       "2012-01-03     24.422\n",
       "2012-01-04     24.997\n",
       "2012-01-05     25.252"
      ]
     },
     "execution_count": 19,
     "metadata": {},
     "output_type": "execute_result"
    }
   ],
   "source": [
    "closes.loc['MSFT', :]"
   ]
  },
  {
   "cell_type": "code",
   "execution_count": 20,
   "metadata": {},
   "outputs": [
    {
     "data": {
      "text/plain": [
       "            Adj Close\n",
       "Date                 \n",
       "2012-01-03     24.422\n",
       "2012-01-04     24.997\n",
       "2012-01-05     25.252"
      ]
     },
     "execution_count": 20,
     "metadata": {},
     "output_type": "execute_result"
    }
   ],
   "source": [
    "closes.loc['MSFT']"
   ]
  },
  {
   "cell_type": "code",
   "execution_count": 21,
   "metadata": {},
   "outputs": [
    {
     "data": {
      "text/plain": [
       "            Adj Close     Volume\n",
       "Date                            \n",
       "2012-01-03     24.422   64731500\n",
       "2012-01-04     24.997   80516100\n",
       "2012-01-05     25.252   56081400\n",
       "2012-01-06     25.644   99455500\n",
       "...               ...        ...\n",
       "2012-12-24     70.716   43938300\n",
       "2012-12-26     69.741   75609100\n",
       "2012-12-27     70.021  113780100\n",
       "2012-12-28     69.278   88569600\n",
       "\n",
       "[498 rows x 2 columns]"
      ]
     },
     "execution_count": 21,
     "metadata": {},
     "output_type": "execute_result"
    }
   ],
   "source": [
    "# demonstrate concatenation using two DataFrame's\n",
    "# that each have two columns.  pandas will align the\n",
    "# data in columns by the column names (labels)\n",
    "msftAV = msft[['Adj Close', 'Volume']]\n",
    "aaplAV = aapl[['Adj Close', 'Volume']]\n",
    "pd.concat([msftAV, aaplAV])"
   ]
  },
  {
   "cell_type": "code",
   "execution_count": 22,
   "metadata": {},
   "outputs": [
    {
     "name": "stderr",
     "output_type": "stream",
     "text": [
      "d:\\Users\\renc\\Anaconda3\\envs\\py36q\\lib\\site-packages\\ipykernel_launcher.py:5: FutureWarning: Sorting because non-concatenation axis is not aligned. A future version\n",
      "of pandas will change to not sort by default.\n",
      "\n",
      "To accept the future behavior, pass 'sort=True'.\n",
      "\n",
      "To retain the current behavior and silence the warning, pass sort=False\n",
      "\n",
      "  \"\"\"\n"
     ]
    },
    {
     "data": {
      "text/plain": [
       "            Adj Close     Volume\n",
       "Date                            \n",
       "2012-01-03     24.422  6.473e+07\n",
       "2012-01-04     24.997  8.052e+07\n",
       "2012-01-05     25.252  5.608e+07\n",
       "2012-01-06     25.644  9.946e+07\n",
       "...               ...        ...\n",
       "2012-12-24     70.716        NaN\n",
       "2012-12-26     69.741        NaN\n",
       "2012-12-27     70.021        NaN\n",
       "2012-12-28     69.278        NaN\n",
       "\n",
       "[498 rows x 2 columns]"
      ]
     },
     "execution_count": 22,
     "metadata": {},
     "output_type": "execute_result"
    }
   ],
   "source": [
    "# demonstrate concatenation with DataFrame objects\n",
    "# that do not have the same set of columns\n",
    "# this demonstrates pandas filling in NaN values\n",
    "aaplA = aapl[['Adj Close']]\n",
    "pd.concat([msftAV, aaplA])"
   ]
  },
  {
   "cell_type": "code",
   "execution_count": 23,
   "metadata": {},
   "outputs": [
    {
     "data": {
      "text/plain": [
       "            Adj Close\n",
       "Date                 \n",
       "2012-01-03     24.422\n",
       "2012-01-04     24.997\n",
       "2012-01-05     25.252\n",
       "2012-01-06     25.644\n",
       "...               ...\n",
       "2012-12-24     70.716\n",
       "2012-12-26     69.741\n",
       "2012-12-27     70.021\n",
       "2012-12-28     69.278\n",
       "\n",
       "[498 rows x 1 columns]"
      ]
     },
     "execution_count": 23,
     "metadata": {},
     "output_type": "execute_result"
    }
   ],
   "source": [
    "# perform an inner join on the DataFrame's\n",
    "# since aaplA does not have a Volume column, pandas\n",
    "# will not include that column in the result\n",
    "pd.concat([msftAV, aaplA], join='inner')"
   ]
  },
  {
   "cell_type": "code",
   "execution_count": 24,
   "metadata": {},
   "outputs": [
    {
     "data": {
      "text/plain": [
       "            Adj Close  Adj Close\n",
       "Date                            \n",
       "2012-01-03     24.422     55.414\n",
       "2012-01-04     24.997     55.711\n",
       "2012-01-05     25.252     56.330"
      ]
     },
     "execution_count": 24,
     "metadata": {},
     "output_type": "execute_result"
    }
   ],
   "source": [
    "# concat along the rows, causing duplicate columns to\n",
    "# be created in the result\n",
    "msftA = msft[['Adj Close']]\n",
    "closes = pd.concat([msftA, aaplA], axis=1)\n",
    "closes[:3]"
   ]
  },
  {
   "cell_type": "code",
   "execution_count": 25,
   "metadata": {},
   "outputs": [
    {
     "data": {
      "text/plain": [
       "                MSFT                AAPL           \n",
       "           Adj Close    Volume Adj Close     Volume\n",
       "Date                                               \n",
       "2012-01-03    24.422  64731500    55.414  7.556e+07\n",
       "2012-01-04    24.997  80516100    55.711  6.501e+07\n",
       "2012-01-05    25.252  56081400    56.330  6.782e+07\n",
       "2012-01-06    25.644  99455500       NaN        NaN\n",
       "2012-01-09    25.307  59706800       NaN        NaN"
      ]
     },
     "execution_count": 25,
     "metadata": {},
     "output_type": "execute_result"
    }
   ],
   "source": [
    "# concat along rows using two DataFrame objects with\n",
    "# different number of rows. This demonstrates how\n",
    "# NaN values will be filled in those rows for AAPL\n",
    "# which only hase three rows as compared to 5 for MSFT\n",
    "pd.concat([msftAV[:5], aaplAV[:3]], axis=1,\n",
    "          keys=['MSFT', 'AAPL'])"
   ]
  },
  {
   "cell_type": "code",
   "execution_count": 26,
   "metadata": {},
   "outputs": [
    {
     "data": {
      "text/plain": [
       "                MSFT      AAPL\n",
       "           Adj Close Adj Close\n",
       "Date                          \n",
       "2012-01-03    24.422    55.414\n",
       "2012-01-04    24.997    55.711\n",
       "2012-01-05    25.252    56.330"
      ]
     },
     "execution_count": 26,
     "metadata": {},
     "output_type": "execute_result"
    }
   ],
   "source": [
    "# inner join can also be used along this axis\n",
    "# this will not include rows with index labels that do\n",
    "# not exist in both DataFrame objects\n",
    "pd.concat([msftA[:5], aaplA[:3]], axis=1,\n",
    "          join='inner', keys=['MSFT', 'AAPL'])"
   ]
  },
  {
   "cell_type": "code",
   "execution_count": 27,
   "metadata": {},
   "outputs": [
    {
     "data": {
      "text/plain": [
       "   Adj Close\n",
       "0     24.422\n",
       "1     24.997\n",
       "2     25.252\n",
       "3     55.414\n",
       "4     55.711\n",
       "5     56.330"
      ]
     },
     "execution_count": 27,
     "metadata": {},
     "output_type": "execute_result"
    }
   ],
   "source": [
    "# ignore indexes and just concatenate the data and\n",
    "# have the result have a default integer index\n",
    "pd.concat([msftA[:3], aaplA[:3]], ignore_index=True)"
   ]
  },
  {
   "cell_type": "markdown",
   "metadata": {},
   "source": [
    "## Merging DataFrame objects"
   ]
  },
  {
   "cell_type": "code",
   "execution_count": 28,
   "metadata": {},
   "outputs": [
    {
     "data": {
      "text/plain": [
       "            Adj Close\n",
       "Date                 \n",
       "2012-01-03     24.422\n",
       "2012-01-04     24.997\n",
       "2012-01-05     25.252\n",
       "2012-01-06     25.644\n",
       "...               ...\n",
       "2012-12-24     25.385\n",
       "2012-12-26     25.197\n",
       "2012-12-27     25.291\n",
       "2012-12-28     24.906\n",
       "\n",
       "[249 rows x 1 columns]"
      ]
     },
     "execution_count": 28,
     "metadata": {},
     "output_type": "execute_result"
    }
   ],
   "source": [
    "msftA"
   ]
  },
  {
   "cell_type": "code",
   "execution_count": 29,
   "metadata": {},
   "outputs": [
    {
     "data": {
      "text/plain": [
       "        Date  Adj Close\n",
       "0 2012-01-03     24.422\n",
       "1 2012-01-04     24.997\n",
       "2 2012-01-05     25.252"
      ]
     },
     "execution_count": 29,
     "metadata": {},
     "output_type": "execute_result"
    }
   ],
   "source": [
    "# we will merge these two DataFrame objects, \n",
    "# so lets peek at the data to remind ourselves\n",
    "# of what they contain\n",
    "msftAR = msftA.reset_index()\n",
    "msftVR = msft[['Volume']].reset_index()\n",
    "msftAR[:3]"
   ]
  },
  {
   "cell_type": "code",
   "execution_count": 30,
   "metadata": {},
   "outputs": [
    {
     "data": {
      "text/plain": [
       "        Date    Volume\n",
       "0 2012-01-03  64731500\n",
       "1 2012-01-04  80516100\n",
       "2 2012-01-05  56081400"
      ]
     },
     "execution_count": 30,
     "metadata": {},
     "output_type": "execute_result"
    }
   ],
   "source": [
    "msftVR[:3]"
   ]
  },
  {
   "cell_type": "code",
   "execution_count": 31,
   "metadata": {},
   "outputs": [
    {
     "data": {
      "text/plain": [
       "        Date  Adj Close    Volume\n",
       "0 2012-01-03     24.422  64731500\n",
       "1 2012-01-04     24.997  80516100\n",
       "2 2012-01-05     25.252  56081400\n",
       "3 2012-01-06     25.644  99455500\n",
       "4 2012-01-09     25.307  59706800"
      ]
     },
     "execution_count": 31,
     "metadata": {},
     "output_type": "execute_result"
    }
   ],
   "source": [
    "# merge the two.  pandas finds the columns in common,\n",
    "# in this case Date, and merges on that column and adds\n",
    "# a column for all the other columns in both DataFrame's\n",
    "msftCVR = pd.merge(msftAR, msftVR)\n",
    "msftCVR[:5]\n",
    "\n",
    "# renc: i suspect that merge two df, these df have one common column "
   ]
  },
  {
   "cell_type": "code",
   "execution_count": 32,
   "metadata": {},
   "outputs": [
    {
     "data": {
      "text/plain": [
       "   Adj Close       Date     Volume\n",
       "0     24.422 2012-01-03        NaN\n",
       "1     24.997 2012-01-04        NaN\n",
       "2     25.252 2012-01-05        NaN\n",
       "0        NaN 2012-01-03  6.473e+07\n",
       "1        NaN 2012-01-04  8.052e+07\n",
       "2        NaN 2012-01-05  5.608e+07"
      ]
     },
     "execution_count": 32,
     "metadata": {},
     "output_type": "execute_result"
    }
   ],
   "source": [
    "pd.concat([msftAR[0:3], msftVR[0:3]], sort=True)"
   ]
  },
  {
   "cell_type": "code",
   "execution_count": 33,
   "metadata": {},
   "outputs": [
    {
     "data": {
      "text/plain": [
       "        Date  Adj Close\n",
       "0 2012-01-03     24.422\n",
       "1 2012-01-04     24.997\n",
       "2 2012-01-05     25.252\n",
       "3 2012-01-06     25.644\n",
       "4 2012-01-09     25.307"
      ]
     },
     "execution_count": 33,
     "metadata": {},
     "output_type": "execute_result"
    }
   ],
   "source": [
    "# we will demonstrate join semantics using this DataFrame\n",
    "msftAR0_5 = msftAR[0:5]\n",
    "msftAR0_5"
   ]
  },
  {
   "cell_type": "code",
   "execution_count": 38,
   "metadata": {},
   "outputs": [
    {
     "data": {
      "text/plain": [
       "        Date    Volume\n",
       "2 2012-01-05  56081400\n",
       "3 2012-01-06  99455500"
      ]
     },
     "execution_count": 38,
     "metadata": {},
     "output_type": "execute_result"
    }
   ],
   "source": [
    "# and also this one\n",
    "msftVR2_4 = msftVR[2:4]\n",
    "msftVR2_4"
   ]
  },
  {
   "cell_type": "code",
   "execution_count": 39,
   "metadata": {},
   "outputs": [
    {
     "data": {
      "text/plain": [
       "        Date  Adj Close    Volume\n",
       "0 2012-01-05     25.252  56081400\n",
       "1 2012-01-06     25.644  99455500"
      ]
     },
     "execution_count": 39,
     "metadata": {},
     "output_type": "execute_result"
    }
   ],
   "source": [
    "# merge semantics using default inner join\n",
    "pd.merge(msftAR0_5, msftVR2_4)\n",
    "\n",
    "# renc: merge looks like doing intersect ..."
   ]
  },
  {
   "cell_type": "code",
   "execution_count": 40,
   "metadata": {},
   "outputs": [
    {
     "data": {
      "text/plain": [
       "        Date  Adj Close     Volume\n",
       "0 2012-01-03     24.422        NaN\n",
       "1 2012-01-04     24.997        NaN\n",
       "2 2012-01-05     25.252  5.608e+07\n",
       "3 2012-01-06     25.644  9.946e+07\n",
       "4 2012-01-09     25.307        NaN"
      ]
     },
     "execution_count": 40,
     "metadata": {},
     "output_type": "execute_result"
    }
   ],
   "source": [
    "# same joing but using\n",
    "pd.merge(msftAR0_5, msftVR2_4, how='outer')"
   ]
  },
  {
   "cell_type": "code",
   "execution_count": 41,
   "metadata": {},
   "outputs": [
    {
     "data": {
      "text/plain": [
       "   Adj Close       Date     Volume\n",
       "0     24.422 2012-01-03        NaN\n",
       "1     24.997 2012-01-04        NaN\n",
       "2     25.252 2012-01-05        NaN\n",
       "3     25.644 2012-01-06        NaN\n",
       "4     25.307 2012-01-09        NaN\n",
       "2        NaN 2012-01-05  5.608e+07\n",
       "3        NaN 2012-01-06  9.946e+07"
      ]
     },
     "execution_count": 41,
     "metadata": {},
     "output_type": "execute_result"
    }
   ],
   "source": [
    "pd.concat([msftAR0_5, msftVR2_4], sort=True)\n",
    "\n",
    "# renc: concat vs. merge   \n",
    "# renc: concat: first find a common column from two dataframe, and add data long that common column.\n",
    "# renc: merge: first find a common column from two dataframe, "
   ]
  },
  {
   "cell_type": "markdown",
   "metadata": {},
   "source": [
    "## Pivoting"
   ]
  },
  {
   "cell_type": "code",
   "execution_count": 42,
   "metadata": {},
   "outputs": [
    {
     "data": {
      "text/plain": [
       "        Date Symbol    Open    High     Low   Close    Volume  Adj Close\n",
       "0 2012-01-03   MSFT   26.55   26.96   26.39   26.77  64731500     24.422\n",
       "1 2012-01-03   AAPL  409.40  412.50  409.00  411.23  75555200     55.414\n",
       "2 2012-01-04   MSFT   26.82   27.47   26.78   27.40  80516100     24.997\n",
       "3 2012-01-04   AAPL  410.00  414.68  409.28  413.44  65005500     55.711\n",
       "4 2012-01-05   MSFT   27.38   27.73   27.29   27.68  56081400     25.252"
      ]
     },
     "execution_count": 42,
     "metadata": {},
     "output_type": "execute_result"
    }
   ],
   "source": [
    "# need to insert Symbol column before combining\n",
    "msft.insert(0, 'Symbol', 'MSFT')\n",
    "aapl.insert(0, 'Symbol', 'AAPL')\n",
    "\n",
    "# concatenate the MSFT and AAPL data\n",
    "# index will consist of the Date column, which we will sort\n",
    "combined = pd.concat([msft, aapl]).sort_index()\n",
    "\n",
    "# this pushes the index into a column and resets to a \n",
    "# default integer index\n",
    "s4p = combined.reset_index();\n",
    "s4p[:5]"
   ]
  },
  {
   "cell_type": "code",
   "execution_count": 44,
   "metadata": {},
   "outputs": [
    {
     "data": {
      "text/plain": [
       "Symbol        AAPL    MSFT\n",
       "Date                      \n",
       "2012-01-03  55.414  24.422\n",
       "2012-01-04  55.711  24.997\n",
       "2012-01-05  56.330  25.252"
      ]
     },
     "execution_count": 44,
     "metadata": {},
     "output_type": "execute_result"
    }
   ],
   "source": [
    "# pivot Date into the Index, make the columns match the\n",
    "# unique values in the Symbol column, and the values \n",
    "# will be the AdjClose values\n",
    "closes = s4p.pivot(index='Date', columns='Symbol', \n",
    "                   values='Adj Close')\n",
    "closes[:3]\n",
    "# renc: think about, if not use pivot, how to achive the same result."
   ]
  },
  {
   "cell_type": "markdown",
   "metadata": {},
   "source": [
    "## Stacking and Unstacking"
   ]
  },
  {
   "cell_type": "code",
   "execution_count": null,
   "metadata": {},
   "outputs": [],
   "source": [
    "# stack the first level of columns into the index\n",
    "# essentially, moves AAPL and MSFT into the index\n",
    "# leaving a single colum which is the AdjClose values\n",
    "stackedCloses = closes.stack()\n",
    "stackedCloses"
   ]
  },
  {
   "cell_type": "code",
   "execution_count": null,
   "metadata": {},
   "outputs": [],
   "source": [
    "# using .ix we can retrieve close values by\n",
    "# specifying both the date and ticker\n",
    "stackedCloses.ix['2012-01-03', 'AAPL']"
   ]
  },
  {
   "cell_type": "code",
   "execution_count": null,
   "metadata": {},
   "outputs": [],
   "source": [
    "# lookup on just the date, which will give us two values\n",
    "# one each for AAPL and MSFT.  \n",
    "stackedCloses.ix['2012-01-03']"
   ]
  },
  {
   "cell_type": "code",
   "execution_count": null,
   "metadata": {},
   "outputs": [],
   "source": [
    "# this looks up all values for the MSFT symbol\n",
    "stackedCloses.ix[:, 'MSFT']"
   ]
  },
  {
   "cell_type": "code",
   "execution_count": null,
   "metadata": {},
   "outputs": [],
   "source": [
    "# pivots the last level of the index back into a column\n",
    "unstackedCloses = stackedCloses.unstack()\n",
    "unstackedCloses[:3]"
   ]
  },
  {
   "cell_type": "markdown",
   "metadata": {},
   "source": [
    "## Melting"
   ]
  },
  {
   "cell_type": "code",
   "execution_count": null,
   "metadata": {},
   "outputs": [],
   "source": [
    "# melt making id_vars of Date and Symbol, making the \n",
    "# column names the variable and the for each the value\n",
    "melted = pd.melt(s4p, id_vars=['Date', 'Symbol'])\n",
    "melted[:5]"
   ]
  },
  {
   "cell_type": "code",
   "execution_count": null,
   "metadata": {},
   "outputs": [],
   "source": [
    "# extract the values for the data for MSFT on 2012-01-03\n",
    "melted[(melted.Date=='2012-01-03') & (melted.Symbol=='MSFT')]"
   ]
  },
  {
   "cell_type": "markdown",
   "metadata": {},
   "source": [
    "# Grouping and aggregation"
   ]
  },
  {
   "cell_type": "markdown",
   "metadata": {},
   "source": [
    "## Splitting"
   ]
  },
  {
   "cell_type": "code",
   "execution_count": 45,
   "metadata": {},
   "outputs": [
    {
     "data": {
      "text/plain": [
       "           Symbol    Open    High     Low   Close    Volume  Adj Close\n",
       "Date                                                                  \n",
       "2012-01-03   MSFT   26.55   26.96   26.39   26.77  64731500     24.422\n",
       "2012-01-03   AAPL  409.40  412.50  409.00  411.23  75555200     55.414\n",
       "2012-01-04   MSFT   26.82   27.47   26.78   27.40  80516100     24.997\n",
       "2012-01-04   AAPL  410.00  414.68  409.28  413.44  65005500     55.711\n",
       "2012-01-05   MSFT   27.38   27.73   27.29   27.68  56081400     25.252"
      ]
     },
     "execution_count": 45,
     "metadata": {},
     "output_type": "execute_result"
    }
   ],
   "source": [
    "combined.head()"
   ]
  },
  {
   "cell_type": "code",
   "execution_count": 48,
   "metadata": {},
   "outputs": [
    {
     "data": {
      "text/plain": [
       "        Date Symbol  Adj Close\n",
       "0 2012-01-03   MSFT     24.422\n",
       "1 2012-01-03   AAPL     55.414\n",
       "2 2012-01-04   MSFT     24.997\n",
       "3 2012-01-04   AAPL     55.711\n",
       "4 2012-01-05   MSFT     25.252"
      ]
     },
     "execution_count": 48,
     "metadata": {},
     "output_type": "execute_result"
    }
   ],
   "source": [
    "# construct a DataFrame to demonstrate splitting\n",
    "# extract from combined the Symbol and AdjClose, and reset the index\n",
    "s4g = combined[['Symbol', 'Adj Close']].reset_index()\n",
    "s4g.head()"
   ]
  },
  {
   "cell_type": "code",
   "execution_count": 63,
   "metadata": {},
   "outputs": [
    {
     "data": {
      "text/plain": [
       "        Date  Year  Month Symbol  Adj Close\n",
       "0 2012-01-03  2012      1   MSFT     24.422\n",
       "1 2012-01-03  2012      1   AAPL     55.414\n",
       "2 2012-01-04  2012      1   MSFT     24.997\n",
       "3 2012-01-04  2012      1   AAPL     55.711\n",
       "4 2012-01-05  2012      1   MSFT     25.252"
      ]
     },
     "execution_count": 63,
     "metadata": {},
     "output_type": "execute_result"
    }
   ],
   "source": [
    "\n",
    "# now, add two columns, year and month, using the year and month\n",
    "# portions of the data as integers\n",
    "s4g.insert(1, 'Year', pd.DatetimeIndex(s4g['Date']).year)\n",
    "s4g.insert(2, 'Month',pd.DatetimeIndex(s4g['Date']).month)\n",
    "s4g[:5]"
   ]
  },
  {
   "cell_type": "code",
   "execution_count": null,
   "metadata": {},
   "outputs": [],
   "source": [
    "# group by the Symbol column\n",
    "s4g.groupby('Symbol')"
   ]
  },
  {
   "cell_type": "code",
   "execution_count": 49,
   "metadata": {},
   "outputs": [
    {
     "data": {
      "text/plain": [
       "dict"
      ]
     },
     "execution_count": 49,
     "metadata": {},
     "output_type": "execute_result"
    }
   ],
   "source": [
    "# group again, but save the result this time\n",
    "grouped = s4g.groupby('Symbol')\n",
    "# the groupby object has a property groups, which shows how\n",
    "# all rows will in mapped into the groups.   \n",
    "# the type of this object is a python dict\n",
    "type(grouped.groups)"
   ]
  },
  {
   "cell_type": "code",
   "execution_count": 50,
   "metadata": {},
   "outputs": [
    {
     "data": {
      "text/plain": [
       "{'AAPL': Int64Index([  1,   3,   5,   7,   9,  11,  13,  14,  16,  18,\n",
       "             ...\n",
       "             478, 480, 482, 484, 487, 488, 490, 492, 494, 497],\n",
       "            dtype='int64', length=249),\n",
       " 'MSFT': Int64Index([  0,   2,   4,   6,   8,  10,  12,  15,  17,  19,\n",
       "             ...\n",
       "             479, 481, 483, 485, 486, 489, 491, 493, 495, 496],\n",
       "            dtype='int64', length=249)}"
      ]
     },
     "execution_count": 50,
     "metadata": {},
     "output_type": "execute_result"
    }
   ],
   "source": [
    "# show the mappings of rows to groups\n",
    "grouped.groups"
   ]
  },
  {
   "cell_type": "code",
   "execution_count": 51,
   "metadata": {},
   "outputs": [
    {
     "data": {
      "text/plain": [
       "(2, 2)"
      ]
     },
     "execution_count": 51,
     "metadata": {},
     "output_type": "execute_result"
    }
   ],
   "source": [
    "# these report the number of groups that resulted from\n",
    "# the grouping\n",
    "len(grouped), grouped.ngroups"
   ]
  },
  {
   "cell_type": "code",
   "execution_count": 53,
   "metadata": {},
   "outputs": [],
   "source": [
    "# this function will print the contents of a group\n",
    "def print_groups (groupobject):\n",
    "    for name, group in groupobject:\n",
    "        print (name) \n",
    "        print (group.head())"
   ]
  },
  {
   "cell_type": "code",
   "execution_count": 55,
   "metadata": {},
   "outputs": [
    {
     "name": "stdout",
     "output_type": "stream",
     "text": [
      "AAPL\n",
      "        Date Symbol  Adj Close\n",
      "1 2012-01-03   AAPL     55.414\n",
      "3 2012-01-04   AAPL     55.711\n",
      "5 2012-01-05   AAPL     56.330\n",
      "7 2012-01-06   AAPL     56.919\n",
      "9 2012-01-09   AAPL     56.829\n",
      "MSFT\n",
      "        Date Symbol  Adj Close\n",
      "0 2012-01-03   MSFT     24.422\n",
      "2 2012-01-04   MSFT     24.997\n",
      "4 2012-01-05   MSFT     25.252\n",
      "6 2012-01-06   MSFT     25.644\n",
      "8 2012-01-09   MSFT     25.307\n"
     ]
    }
   ],
   "source": [
    "# examine our resulting groups\n",
    "print_groups(grouped)\n",
    "\n",
    "# renc, now we know that groups are dict, name as key and df as value. "
   ]
  },
  {
   "cell_type": "code",
   "execution_count": 56,
   "metadata": {},
   "outputs": [
    {
     "data": {
      "text/plain": [
       "Symbol\n",
       "AAPL    249\n",
       "MSFT    249\n",
       "dtype: int64"
      ]
     },
     "execution_count": 56,
     "metadata": {},
     "output_type": "execute_result"
    }
   ],
   "source": [
    "# .size will tell us the count of items in each group\n",
    "grouped.size()"
   ]
  },
  {
   "cell_type": "code",
   "execution_count": 57,
   "metadata": {},
   "outputs": [
    {
     "data": {
      "text/plain": [
       "          Date Symbol  Adj Close\n",
       "0   2012-01-03   MSFT     24.422\n",
       "2   2012-01-04   MSFT     24.997\n",
       "4   2012-01-05   MSFT     25.252\n",
       "6   2012-01-06   MSFT     25.644\n",
       "..         ...    ...        ...\n",
       "491 2012-12-24   MSFT     25.385\n",
       "493 2012-12-26   MSFT     25.197\n",
       "495 2012-12-27   MSFT     25.291\n",
       "496 2012-12-28   MSFT     24.906\n",
       "\n",
       "[249 rows x 3 columns]"
      ]
     },
     "execution_count": 57,
     "metadata": {},
     "output_type": "execute_result"
    }
   ],
   "source": [
    "# a specific group can be retrieved using .get_group()\n",
    "# which returns a DataFrame representing the specified group\n",
    "grouped.get_group('MSFT')"
   ]
  },
  {
   "cell_type": "code",
   "execution_count": 64,
   "metadata": {},
   "outputs": [
    {
     "data": {
      "text/plain": [
       "        Date  Year  Month Symbol  Adj Close\n",
       "0 2012-01-03  2012      1   MSFT     24.422\n",
       "1 2012-01-03  2012      1   AAPL     55.414\n",
       "2 2012-01-04  2012      1   MSFT     24.997\n",
       "3 2012-01-04  2012      1   AAPL     55.711\n",
       "4 2012-01-05  2012      1   MSFT     25.252"
      ]
     },
     "execution_count": 64,
     "metadata": {},
     "output_type": "execute_result"
    }
   ],
   "source": [
    "s4g.head()"
   ]
  },
  {
   "cell_type": "code",
   "execution_count": 65,
   "metadata": {},
   "outputs": [
    {
     "name": "stdout",
     "output_type": "stream",
     "text": [
      "('AAPL', 2012, 1)\n",
      "        Date  Year  Month Symbol  Adj Close\n",
      "1 2012-01-03  2012      1   AAPL     55.414\n",
      "3 2012-01-04  2012      1   AAPL     55.711\n",
      "5 2012-01-05  2012      1   AAPL     56.330\n",
      "7 2012-01-06  2012      1   AAPL     56.919\n",
      "9 2012-01-09  2012      1   AAPL     56.829\n",
      "('AAPL', 2012, 2)\n",
      "         Date  Year  Month Symbol  Adj Close\n",
      "41 2012-02-01  2012      2   AAPL     61.472\n",
      "43 2012-02-02  2012      2   AAPL     61.328\n",
      "44 2012-02-03  2012      2   AAPL     61.942\n",
      "46 2012-02-06  2012      2   AAPL     62.520\n",
      "49 2012-02-07  2012      2   AAPL     63.175\n",
      "('AAPL', 2012, 3)\n",
      "         Date  Year  Month Symbol  Adj Close\n",
      "81 2012-03-01  2012      3   AAPL     73.368\n",
      "82 2012-03-02  2012      3   AAPL     73.464\n",
      "84 2012-03-05  2012      3   AAPL     71.844\n",
      "86 2012-03-06  2012      3   AAPL     71.453\n",
      "89 2012-03-07  2012      3   AAPL     71.511\n",
      "('AAPL', 2012, 4)\n",
      "          Date  Year  Month Symbol  Adj Close\n",
      "124 2012-04-02  2012      4   AAPL     83.361\n",
      "126 2012-04-03  2012      4   AAPL     84.801\n",
      "128 2012-04-04  2012      4   AAPL     84.126\n",
      "130 2012-04-05  2012      4   AAPL     85.389\n",
      "132 2012-04-09  2012      4   AAPL     85.733\n",
      "('AAPL', 2012, 5)\n",
      "          Date  Year  Month Symbol  Adj Close\n",
      "164 2012-05-01  2012      5   AAPL     78.443\n",
      "166 2012-05-02  2012      5   AAPL     78.961\n",
      "168 2012-05-03  2012      5   AAPL     78.401\n",
      "170 2012-05-04  2012      5   AAPL     76.168\n",
      "173 2012-05-07  2012      5   AAPL     76.738\n",
      "('AAPL', 2012, 6)\n",
      "          Date  Year  Month Symbol  Adj Close\n",
      "208 2012-06-01  2012      6   AAPL     75.594\n",
      "211 2012-06-04  2012      6   AAPL     76.039\n",
      "213 2012-06-05  2012      6   AAPL     75.842\n",
      "215 2012-06-06  2012      6   AAPL     77.005\n",
      "217 2012-06-07  2012      6   AAPL     77.040\n",
      "('AAPL', 2012, 7)\n",
      "          Date  Year  Month Symbol  Adj Close\n",
      "250 2012-07-02  2012      7   AAPL     79.843\n",
      "252 2012-07-03  2012      7   AAPL     80.771\n",
      "254 2012-07-05  2012      7   AAPL     82.190\n",
      "257 2012-07-06  2012      7   AAPL     81.643\n",
      "259 2012-07-09  2012      7   AAPL     82.722\n",
      "('AAPL', 2012, 8)\n",
      "          Date  Year  Month Symbol  Adj Close\n",
      "293 2012-08-01  2012      8   AAPL     81.768\n",
      "295 2012-08-02  2012      8   AAPL     81.900\n",
      "296 2012-08-03  2012      8   AAPL     82.966\n",
      "298 2012-08-06  2012      8   AAPL     83.889\n",
      "301 2012-08-07  2012      8   AAPL     83.668\n",
      "('AAPL', 2012, 9)\n",
      "          Date  Year  Month Symbol  Adj Close\n",
      "338 2012-09-04  2012      9   AAPL     91.343\n",
      "340 2012-09-05  2012      9   AAPL     90.702\n",
      "343 2012-09-06  2012      9   AAPL     91.519\n",
      "344 2012-09-07  2012      9   AAPL     92.084\n",
      "347 2012-09-10  2012      9   AAPL     89.688\n",
      "('AAPL', 2012, 10)\n",
      "          Date  Year  Month Symbol  Adj Close\n",
      "377 2012-10-01  2012     10   AAPL     89.235\n",
      "379 2012-10-02  2012     10   AAPL     89.495\n",
      "380 2012-10-03  2012     10   AAPL     90.867\n",
      "382 2012-10-04  2012     10   AAPL     90.238\n",
      "385 2012-10-05  2012     10   AAPL     88.315\n",
      "('AAPL', 2012, 11)\n",
      "          Date  Year  Month Symbol  Adj Close\n",
      "419 2012-11-01  2012     11   AAPL     80.729\n",
      "420 2012-11-02  2012     11   AAPL     78.058\n",
      "423 2012-11-05  2012     11   AAPL     79.116\n",
      "425 2012-11-06  2012     11   AAPL     78.877\n",
      "427 2012-11-07  2012     11   AAPL     75.859\n",
      "('AAPL', 2012, 12)\n",
      "          Date  Year  Month Symbol  Adj Close\n",
      "460 2012-12-03  2012     12   AAPL     79.691\n",
      "463 2012-12-04  2012     12   AAPL     78.285\n",
      "464 2012-12-05  2012     12   AAPL     73.247\n",
      "466 2012-12-06  2012     12   AAPL     74.396\n",
      "468 2012-12-07  2012     12   AAPL     72.494\n",
      "('MSFT', 2012, 1)\n",
      "        Date  Year  Month Symbol  Adj Close\n",
      "0 2012-01-03  2012      1   MSFT     24.422\n",
      "2 2012-01-04  2012      1   MSFT     24.997\n",
      "4 2012-01-05  2012      1   MSFT     25.252\n",
      "6 2012-01-06  2012      1   MSFT     25.644\n",
      "8 2012-01-09  2012      1   MSFT     25.307\n",
      "('MSFT', 2012, 2)\n",
      "         Date  Year  Month Symbol  Adj Close\n",
      "40 2012-02-01  2012      2   MSFT     27.268\n",
      "42 2012-02-02  2012      2   MSFT     27.323\n",
      "45 2012-02-03  2012      2   MSFT     27.587\n",
      "47 2012-02-06  2012      2   MSFT     27.551\n",
      "48 2012-02-07  2012      2   MSFT     27.688\n",
      "('MSFT', 2012, 3)\n",
      "         Date  Year  Month Symbol  Adj Close\n",
      "80 2012-03-01  2012      3   MSFT     29.652\n",
      "83 2012-03-02  2012      3   MSFT     29.459\n",
      "85 2012-03-05  2012      3   MSFT     29.202\n",
      "87 2012-03-06  2012      3   MSFT     28.981\n",
      "88 2012-03-07  2012      3   MSFT     29.238\n",
      "('MSFT', 2012, 4)\n",
      "          Date  Year  Month Symbol  Adj Close\n",
      "125 2012-04-02  2012      4   MSFT     29.652\n",
      "127 2012-04-03  2012      4   MSFT     29.330\n",
      "129 2012-04-04  2012      4   MSFT     28.660\n",
      "131 2012-04-05  2012      4   MSFT     28.944\n",
      "133 2012-04-09  2012      4   MSFT     28.559\n",
      "('MSFT', 2012, 5)\n",
      "          Date  Year  Month Symbol  Adj Close\n",
      "165 2012-05-01  2012      5   MSFT     29.394\n",
      "167 2012-05-02  2012      5   MSFT     29.202\n",
      "169 2012-05-03  2012      5   MSFT     29.165\n",
      "171 2012-05-04  2012      5   MSFT     28.449\n",
      "172 2012-05-07  2012      5   MSFT     28.146\n",
      "('MSFT', 2012, 6)\n",
      "          Date  Year  Month Symbol  Adj Close\n",
      "209 2012-06-01  2012      6   MSFT     26.297\n",
      "210 2012-06-04  2012      6   MSFT     26.389\n",
      "212 2012-06-05  2012      6   MSFT     26.352\n",
      "214 2012-06-06  2012      6   MSFT     27.129\n",
      "216 2012-06-07  2012      6   MSFT     27.018\n",
      "('MSFT', 2012, 7)\n",
      "          Date  Year  Month Symbol  Adj Close\n",
      "251 2012-07-02  2012      7   MSFT     28.247\n",
      "253 2012-07-03  2012      7   MSFT     28.432\n",
      "255 2012-07-05  2012      7   MSFT     28.376\n",
      "256 2012-07-06  2012      7   MSFT     27.905\n",
      "258 2012-07-09  2012      7   MSFT     27.729\n",
      "('MSFT', 2012, 8)\n",
      "          Date  Year  Month Symbol  Adj Close\n",
      "292 2012-08-01  2012      8   MSFT     27.184\n",
      "294 2012-08-02  2012      8   MSFT     26.981\n",
      "297 2012-08-03  2012      8   MSFT     27.498\n",
      "299 2012-08-06  2012      8   MSFT     27.683\n",
      "300 2012-08-07  2012      8   MSFT     27.970\n",
      "('MSFT', 2012, 9)\n",
      "          Date  Year  Month Symbol  Adj Close\n",
      "339 2012-09-04  2012      9   MSFT     28.276\n",
      "341 2012-09-05  2012      9   MSFT     28.276\n",
      "342 2012-09-06  2012      9   MSFT     29.169\n",
      "345 2012-09-07  2012      9   MSFT     28.797\n",
      "346 2012-09-10  2012      9   MSFT     28.583\n",
      "('MSFT', 2012, 10)\n",
      "          Date  Year  Month Symbol  Adj Close\n",
      "376 2012-10-01  2012     10   MSFT     27.439\n",
      "378 2012-10-02  2012     10   MSFT     27.597\n",
      "381 2012-10-03  2012     10   MSFT     27.783\n",
      "383 2012-10-04  2012     10   MSFT     27.941\n",
      "384 2012-10-05  2012     10   MSFT     27.774\n",
      "('MSFT', 2012, 11)\n",
      "          Date  Year  Month Symbol  Adj Close\n",
      "418 2012-11-01  2012     11   MSFT     27.467\n",
      "421 2012-11-02  2012     11   MSFT     27.448\n",
      "422 2012-11-05  2012     11   MSFT     27.569\n",
      "424 2012-11-06  2012     11   MSFT     27.783\n",
      "426 2012-11-07  2012     11   MSFT     27.057\n",
      "('MSFT', 2012, 12)\n",
      "          Date  Year  Month Symbol  Adj Close\n",
      "461 2012-12-03  2012     12   MSFT     24.794\n",
      "462 2012-12-04  2012     12   MSFT     24.737\n",
      "465 2012-12-05  2012     12   MSFT     25.019\n",
      "467 2012-12-06  2012     12   MSFT     25.075\n",
      "469 2012-12-07  2012     12   MSFT     24.822\n"
     ]
    }
   ],
   "source": [
    "\n",
    "# group by three different fields and print the result\n",
    "mcg = s4g.groupby(['Symbol', 'Year', 'Month'])\n",
    "print_groups(mcg)"
   ]
  },
  {
   "cell_type": "code",
   "execution_count": 66,
   "metadata": {},
   "outputs": [
    {
     "data": {
      "text/plain": [
       "                        Date  Adj Close\n",
       "Symbol Year Month                      \n",
       "MSFT   2012 1     2012-01-03     24.422\n",
       "AAPL   2012 1     2012-01-03     55.414\n",
       "MSFT   2012 1     2012-01-04     24.997\n",
       "AAPL   2012 1     2012-01-04     55.711\n",
       "...                      ...        ...\n",
       "            12    2012-12-27     70.021\n",
       "MSFT   2012 12    2012-12-27     25.291\n",
       "            12    2012-12-28     24.906\n",
       "AAPL   2012 12    2012-12-28     69.278\n",
       "\n",
       "[498 rows x 2 columns]"
      ]
     },
     "execution_count": 66,
     "metadata": {},
     "output_type": "execute_result"
    }
   ],
   "source": [
    "# set the index of the data to be the following three fields\n",
    "# we are creating a multiindex\n",
    "mi = s4g.set_index(['Symbol', 'Year', 'Month'])\n",
    "mi"
   ]
  },
  {
   "cell_type": "code",
   "execution_count": 67,
   "metadata": {},
   "outputs": [
    {
     "name": "stdout",
     "output_type": "stream",
     "text": [
      "AAPL\n",
      "                        Date  Adj Close\n",
      "Symbol Year Month                      \n",
      "AAPL   2012 1     2012-01-03     55.414\n",
      "            1     2012-01-04     55.711\n",
      "            1     2012-01-05     56.330\n",
      "            1     2012-01-06     56.919\n",
      "            1     2012-01-09     56.829\n",
      "MSFT\n",
      "                        Date  Adj Close\n",
      "Symbol Year Month                      \n",
      "MSFT   2012 1     2012-01-03     24.422\n",
      "            1     2012-01-04     24.997\n",
      "            1     2012-01-05     25.252\n",
      "            1     2012-01-06     25.644\n",
      "            1     2012-01-09     25.307\n"
     ]
    }
   ],
   "source": [
    "# now we can group based upon values in the actual index\n",
    "# the following groups by level 0 of the index (Month)\n",
    "mig_l1 = mi.groupby(level=0)\n",
    "print_groups(mig_l1)"
   ]
  },
  {
   "cell_type": "code",
   "execution_count": 68,
   "metadata": {},
   "outputs": [
    {
     "name": "stdout",
     "output_type": "stream",
     "text": [
      "('AAPL', 2012, 1)\n",
      "                        Date  Adj Close\n",
      "Symbol Year Month                      \n",
      "AAPL   2012 1     2012-01-03     55.414\n",
      "            1     2012-01-04     55.711\n",
      "            1     2012-01-05     56.330\n",
      "            1     2012-01-06     56.919\n",
      "            1     2012-01-09     56.829\n",
      "('AAPL', 2012, 2)\n",
      "                        Date  Adj Close\n",
      "Symbol Year Month                      \n",
      "AAPL   2012 2     2012-02-01     61.472\n",
      "            2     2012-02-02     61.328\n",
      "            2     2012-02-03     61.942\n",
      "            2     2012-02-06     62.520\n",
      "            2     2012-02-07     63.175\n",
      "('AAPL', 2012, 3)\n",
      "                        Date  Adj Close\n",
      "Symbol Year Month                      \n",
      "AAPL   2012 3     2012-03-01     73.368\n",
      "            3     2012-03-02     73.464\n",
      "            3     2012-03-05     71.844\n",
      "            3     2012-03-06     71.453\n",
      "            3     2012-03-07     71.511\n",
      "('AAPL', 2012, 4)\n",
      "                        Date  Adj Close\n",
      "Symbol Year Month                      \n",
      "AAPL   2012 4     2012-04-02     83.361\n",
      "            4     2012-04-03     84.801\n",
      "            4     2012-04-04     84.126\n",
      "            4     2012-04-05     85.389\n",
      "            4     2012-04-09     85.733\n",
      "('AAPL', 2012, 5)\n",
      "                        Date  Adj Close\n",
      "Symbol Year Month                      \n",
      "AAPL   2012 5     2012-05-01     78.443\n",
      "            5     2012-05-02     78.961\n",
      "            5     2012-05-03     78.401\n",
      "            5     2012-05-04     76.168\n",
      "            5     2012-05-07     76.738\n",
      "('AAPL', 2012, 6)\n",
      "                        Date  Adj Close\n",
      "Symbol Year Month                      \n",
      "AAPL   2012 6     2012-06-01     75.594\n",
      "            6     2012-06-04     76.039\n",
      "            6     2012-06-05     75.842\n",
      "            6     2012-06-06     77.005\n",
      "            6     2012-06-07     77.040\n",
      "('AAPL', 2012, 7)\n",
      "                        Date  Adj Close\n",
      "Symbol Year Month                      \n",
      "AAPL   2012 7     2012-07-02     79.843\n",
      "            7     2012-07-03     80.771\n",
      "            7     2012-07-05     82.190\n",
      "            7     2012-07-06     81.643\n",
      "            7     2012-07-09     82.722\n",
      "('AAPL', 2012, 8)\n",
      "                        Date  Adj Close\n",
      "Symbol Year Month                      \n",
      "AAPL   2012 8     2012-08-01     81.768\n",
      "            8     2012-08-02     81.900\n",
      "            8     2012-08-03     82.966\n",
      "            8     2012-08-06     83.889\n",
      "            8     2012-08-07     83.668\n",
      "('AAPL', 2012, 9)\n",
      "                        Date  Adj Close\n",
      "Symbol Year Month                      \n",
      "AAPL   2012 9     2012-09-04     91.343\n",
      "            9     2012-09-05     90.702\n",
      "            9     2012-09-06     91.519\n",
      "            9     2012-09-07     92.084\n",
      "            9     2012-09-10     89.688\n",
      "('AAPL', 2012, 10)\n",
      "                        Date  Adj Close\n",
      "Symbol Year Month                      \n",
      "AAPL   2012 10    2012-10-01     89.235\n",
      "            10    2012-10-02     89.495\n",
      "            10    2012-10-03     90.867\n",
      "            10    2012-10-04     90.238\n",
      "            10    2012-10-05     88.315\n",
      "('AAPL', 2012, 11)\n",
      "                        Date  Adj Close\n",
      "Symbol Year Month                      \n",
      "AAPL   2012 11    2012-11-01     80.729\n",
      "            11    2012-11-02     78.058\n",
      "            11    2012-11-05     79.116\n",
      "            11    2012-11-06     78.877\n",
      "            11    2012-11-07     75.859\n",
      "('AAPL', 2012, 12)\n",
      "                        Date  Adj Close\n",
      "Symbol Year Month                      \n",
      "AAPL   2012 12    2012-12-03     79.691\n",
      "            12    2012-12-04     78.285\n",
      "            12    2012-12-05     73.247\n",
      "            12    2012-12-06     74.396\n",
      "            12    2012-12-07     72.494\n",
      "('MSFT', 2012, 1)\n",
      "                        Date  Adj Close\n",
      "Symbol Year Month                      \n",
      "MSFT   2012 1     2012-01-03     24.422\n",
      "            1     2012-01-04     24.997\n",
      "            1     2012-01-05     25.252\n",
      "            1     2012-01-06     25.644\n",
      "            1     2012-01-09     25.307\n",
      "('MSFT', 2012, 2)\n",
      "                        Date  Adj Close\n",
      "Symbol Year Month                      \n",
      "MSFT   2012 2     2012-02-01     27.268\n",
      "            2     2012-02-02     27.323\n",
      "            2     2012-02-03     27.587\n",
      "            2     2012-02-06     27.551\n",
      "            2     2012-02-07     27.688\n",
      "('MSFT', 2012, 3)\n",
      "                        Date  Adj Close\n",
      "Symbol Year Month                      \n",
      "MSFT   2012 3     2012-03-01     29.652\n",
      "            3     2012-03-02     29.459\n",
      "            3     2012-03-05     29.202\n",
      "            3     2012-03-06     28.981\n",
      "            3     2012-03-07     29.238\n",
      "('MSFT', 2012, 4)\n",
      "                        Date  Adj Close\n",
      "Symbol Year Month                      \n",
      "MSFT   2012 4     2012-04-02     29.652\n",
      "            4     2012-04-03     29.330\n",
      "            4     2012-04-04     28.660\n",
      "            4     2012-04-05     28.944\n",
      "            4     2012-04-09     28.559\n",
      "('MSFT', 2012, 5)\n",
      "                        Date  Adj Close\n",
      "Symbol Year Month                      \n",
      "MSFT   2012 5     2012-05-01     29.394\n",
      "            5     2012-05-02     29.202\n",
      "            5     2012-05-03     29.165\n",
      "            5     2012-05-04     28.449\n",
      "            5     2012-05-07     28.146\n",
      "('MSFT', 2012, 6)\n",
      "                        Date  Adj Close\n",
      "Symbol Year Month                      \n",
      "MSFT   2012 6     2012-06-01     26.297\n",
      "            6     2012-06-04     26.389\n",
      "            6     2012-06-05     26.352\n",
      "            6     2012-06-06     27.129\n",
      "            6     2012-06-07     27.018\n",
      "('MSFT', 2012, 7)\n",
      "                        Date  Adj Close\n",
      "Symbol Year Month                      \n",
      "MSFT   2012 7     2012-07-02     28.247\n",
      "            7     2012-07-03     28.432\n",
      "            7     2012-07-05     28.376\n",
      "            7     2012-07-06     27.905\n",
      "            7     2012-07-09     27.729\n",
      "('MSFT', 2012, 8)\n",
      "                        Date  Adj Close\n",
      "Symbol Year Month                      \n",
      "MSFT   2012 8     2012-08-01     27.184\n",
      "            8     2012-08-02     26.981\n",
      "            8     2012-08-03     27.498\n",
      "            8     2012-08-06     27.683\n",
      "            8     2012-08-07     27.970\n",
      "('MSFT', 2012, 9)\n",
      "                        Date  Adj Close\n",
      "Symbol Year Month                      \n",
      "MSFT   2012 9     2012-09-04     28.276\n",
      "            9     2012-09-05     28.276\n",
      "            9     2012-09-06     29.169\n",
      "            9     2012-09-07     28.797\n",
      "            9     2012-09-10     28.583\n",
      "('MSFT', 2012, 10)\n",
      "                        Date  Adj Close\n",
      "Symbol Year Month                      \n",
      "MSFT   2012 10    2012-10-01     27.439\n",
      "            10    2012-10-02     27.597\n",
      "            10    2012-10-03     27.783\n",
      "            10    2012-10-04     27.941\n",
      "            10    2012-10-05     27.774\n",
      "('MSFT', 2012, 11)\n",
      "                        Date  Adj Close\n",
      "Symbol Year Month                      \n",
      "MSFT   2012 11    2012-11-01     27.467\n",
      "            11    2012-11-02     27.448\n",
      "            11    2012-11-05     27.569\n",
      "            11    2012-11-06     27.783\n",
      "            11    2012-11-07     27.057\n",
      "('MSFT', 2012, 12)\n",
      "                        Date  Adj Close\n",
      "Symbol Year Month                      \n",
      "MSFT   2012 12    2012-12-03     24.794\n",
      "            12    2012-12-04     24.737\n",
      "            12    2012-12-05     25.019\n",
      "            12    2012-12-06     25.075\n",
      "            12    2012-12-07     24.822\n"
     ]
    }
   ],
   "source": [
    "# group by three levels in the index using their names\n",
    "mig_l12 = mi.groupby(level=['Symbol', 'Year', 'Month'])\n",
    "print_groups(mig_l12)"
   ]
  },
  {
   "cell_type": "markdown",
   "metadata": {},
   "source": [
    "# Aggregation"
   ]
  },
  {
   "cell_type": "code",
   "execution_count": 69,
   "metadata": {},
   "outputs": [
    {
     "data": {
      "text/plain": [
       "                   Adj Close\n",
       "Symbol Year Month           \n",
       "AAPL   2012 1         57.751\n",
       "            2         67.048\n",
       "            3         77.820\n",
       "            4         81.659\n",
       "...                      ...\n",
       "MSFT   2012 9         28.641\n",
       "            10        27.044\n",
       "            11        26.005\n",
       "            12        25.309\n",
       "\n",
       "[24 rows x 1 columns]"
      ]
     },
     "execution_count": 69,
     "metadata": {},
     "output_type": "execute_result"
    }
   ],
   "source": [
    "# this will apply the mean function to each group\n",
    "mig_l12.agg(np.mean)"
   ]
  },
  {
   "cell_type": "code",
   "execution_count": 70,
   "metadata": {},
   "outputs": [
    {
     "data": {
      "text/plain": [
       "  Symbol  Year  Month  Adj Close\n",
       "0   AAPL  2012      1     57.751\n",
       "1   AAPL  2012      2     67.048\n",
       "2   AAPL  2012      3     77.820\n",
       "3   AAPL  2012      4     81.659\n",
       "4   AAPL  2012      5     76.090"
      ]
     },
     "execution_count": 70,
     "metadata": {},
     "output_type": "execute_result"
    }
   ],
   "source": [
    "# example of groupby that also ignores the index\n",
    "# resulting in a default integer index\n",
    "# this also has the mean function applied\n",
    "s4g.groupby(['Symbol', 'Year', 'Month'], \n",
    "            as_index=False).agg(np.mean)[:5]"
   ]
  },
  {
   "cell_type": "code",
   "execution_count": 71,
   "metadata": {},
   "outputs": [
    {
     "data": {
      "text/plain": [
       "                  Adj Close       \n",
       "                       mean    std\n",
       "Symbol Year Month                 \n",
       "AAPL   2012 1        57.751  1.798\n",
       "            2        67.048  3.570\n",
       "            3        77.820  4.162\n",
       "            4        81.659  3.063\n",
       "...                     ...    ...\n",
       "MSFT   2012 9        28.641  0.431\n",
       "            10       27.044  0.667\n",
       "            11       26.005  1.001\n",
       "            12       25.309  0.364\n",
       "\n",
       "[24 rows x 2 columns]"
      ]
     },
     "execution_count": 71,
     "metadata": {},
     "output_type": "execute_result"
    }
   ],
   "source": [
    "# apply multiple functions to each group in one call\n",
    "mig_l12.agg([np.mean, np.std])"
   ]
  }
 ],
 "metadata": {
  "kernelspec": {
   "display_name": "Python 3",
   "language": "python",
   "name": "python3"
  },
  "language_info": {
   "codemirror_mode": {
    "name": "ipython",
    "version": 3
   },
   "file_extension": ".py",
   "mimetype": "text/x-python",
   "name": "python",
   "nbconvert_exporter": "python",
   "pygments_lexer": "ipython3",
   "version": "3.6.5"
  }
 },
 "nbformat": 4,
 "nbformat_minor": 1
}
